{
 "cells": [
  {
   "cell_type": "markdown",
   "metadata": {},
   "source": [
    "**Project made by : Tiphaine CASY and Elodie GERMANI**\n",
    "\n",
    "**M2 BioInformatique et Génomique - IBI**"
   ]
  },
  {
   "cell_type": "markdown",
   "metadata": {
    "_cell_guid": "b1076dfc-b9ad-4769-8c92-a6c4dae69d19",
    "_uuid": "8f2839f25d086af736a60e9eeb907d3b93b6e0e5"
   },
   "source": [
    "## Presentation of the project \n",
    " \n",
    "<p> This project deals with recognition and classification of white blood cells depending on their physical aspect (number of nucleus, granulosity, etc...). </p> \n",
    "<p> This project focuses on image recognition. Althought, the use of <b>Deep Learning with a Convolutional Neural Network (CNN)</b> is strongly recommanded. We used this type of classification to create a model which will be able to determine if the cell present in the picture is a \"LYMPHOCYTE\", a \"EOSINOPHIL\", a \"NEUTROPHIL\" or a \"MONOCYTE\". </p>\n",
    " \n",
    "We proceeded in stages : \n",
    "* first, we made a cleaning of the original dataset : we removed the images that were not in the label file and/or not in the image repository. \n",
    "* after that, we had a dataset of **367 images** so we artificially augmentated the datas with black & white transformation, horizontal rotation and vertical transformation (mirror). Finally, our dataset was composed of 2777 images divided in 4 labels (\"LYMPHOCYTE\", \"EOSINOPHIL\", \"NEUTROPHIL\" and \"MONOCYTE\"). \n",
    "* to use a CNN, we needed to have **3 separated datasets** : a train set, a test set and a validation set. The validation set depends on the train set so we only separated our datas into train and test datasets. \n",
    "* the fourth step was to create a **CNN**. To do so, we were inspired by an existing CNN that we already modified and that we will continue to modify to optimize our results.\n",
    "* we chose to select 150 epochs and a batch size of 95 but these parameters are easily editable. \n",
    "* to analyse the results, we plotted 2 curves : the evolution of the **model accuracy** and of the **model loss** according to the epochs. \n",
    "* we also made the **confusion matrix and confusion tables for each class** in order to calculate parameters like the prediction rate of the model and the sensitivity and specificity of the model for each class.\n",
    " \n",
    "#### To launch this script, you need to download the dataset available here : https://www.kaggle.com/paultimothymooney/blood-cells/download. \n",
    " \n",
    "#### You will have a archive.zip file that you have to unzip. This \"archive\" repository must be stored in the same repository as this notebook for this script to work. "
   ]
  },
  {
   "cell_type": "markdown",
   "metadata": {
    "_cell_guid": "79c7e3d0-c299-4dcb-8224-4455121ee9b0",
    "_uuid": "d629ff2d2480ee46fbb7e2d37f6b5fab8052498a",
    "collapsed": true
   },
   "source": [
    "## 1. Data augmentation and creation of training and test sets"
   ]
  },
  {
   "cell_type": "code",
   "execution_count": 1,
   "metadata": {},
   "outputs": [],
   "source": [
    "#!/usr/bin/env python\n",
    "# coding: utf-8"
   ]
  },
  {
   "cell_type": "markdown",
   "metadata": {},
   "source": [
    "### Importation of differents packages"
   ]
  },
  {
   "cell_type": "code",
   "execution_count": 2,
   "metadata": {},
   "outputs": [],
   "source": [
    "from os.path import join\n",
    "import warnings\n",
    "warnings.filterwarnings('ignore')\n",
    "import os\n",
    "import shutil\n",
    "import numpy as np\n",
    "import pandas as pd\n",
    "from PIL import Image, ImageOps\n",
    "import cv2\n",
    "import scipy\n",
    "import matplotlib.pyplot as plt\n",
    "import itertools\n",
    "import seaborn as sns\n",
    "\n",
    "from keras.models import Sequential\n",
    "from keras.layers import Dense,Dropout,Activation,Flatten\n",
    "from keras.layers import Conv2D, MaxPooling2D, Lambda\n",
    "from keras.utils import np_utils\n",
    "from keras.models import load_model\n",
    "from keras.models import model_from_json\n",
    "from keras.utils.np_utils import to_categorical\n",
    "\n",
    "from sklearn.model_selection import train_test_split\n",
    "from sklearn.preprocessing import LabelEncoder\n",
    "from sklearn.metrics import accuracy_score\n",
    "from sklearn.metrics import confusion_matrix"
   ]
  },
  {
   "cell_type": "code",
   "execution_count": 3,
   "metadata": {},
   "outputs": [],
   "source": [
    "pd.set_option('mode.chained_assignment', None)"
   ]
  },
  {
   "cell_type": "code",
   "execution_count": 4,
   "metadata": {},
   "outputs": [],
   "source": [
    "if not os.path.exists(\"../output/kaggle/working/augmentated_datas/\"):\n",
    "    os.makedirs(\"../output/kaggle/working/augmentated_datas/\")"
   ]
  },
  {
   "cell_type": "code",
   "execution_count": 5,
   "metadata": {},
   "outputs": [],
   "source": [
    "dataframe = pd.read_csv('../input/blood-cells/dataset-master/dataset-master/labels.csv', usecols=[1,2]) # Store the labels.csv file in a pandas dataframe\n",
    "# Remove column zero (empty column)\n",
    "image_dir = '../input/blood-cells/dataset-master/dataset-master/JPEGImages/' # Path to the original image repository (can be modify if not the right path)"
   ]
  },
  {
   "cell_type": "code",
   "execution_count": 6,
   "metadata": {},
   "outputs": [],
   "source": [
    "def pretreatment(dataframe, image_dir):\n",
    "    img_paths = sorted([join(image_dir, filename) for filename in os.listdir(image_dir)]) # List of image paths in ascending order\n",
    "    # len(img_paths) = 366\n",
    "\n",
    "    imgId_notNull = dataframe[pd.notnull(dataframe.Category)][\"Image\"] # Image ID with labels not null\n",
    "    # len(imgId_notNull) = 367\n",
    "    dataframe = dataframe[pd.notnull(dataframe.Category)] # Dataframe with only images with a label (no null labels)\n",
    "\n",
    "    # Search for the images IDs of images in the repository\n",
    "    imgId_inRep = []\n",
    "    for i in img_paths:\n",
    "        imgId_inRep.append(int(i[len(i)-9:len(i)-4])) # Image Id in repository\n",
    "\n",
    "    # Search for images that are in the repository but not in the labels file and\n",
    "    # that are in the labels file but not in the repository\n",
    "    bad_img_inLabel = []\n",
    "    bad_img_inRep = []\n",
    "    for i in imgId_notNull:\n",
    "        if i not in imgId_inRep:\n",
    "            bad_img_inLabel.append(i)\n",
    "    for i in imgId_inRep:\n",
    "        if i not in imgId_notNull:\n",
    "            bad_img_inRep.append(i)\n",
    "\n",
    "    # Remove images paths that are not in the labels file\n",
    "    for i in bad_img_inRep:\n",
    "        to_delete = \"BloodImage_\" + (5 - len(str(i))) * str(0) + str(i)+ \".jpg\"\n",
    "        to_delete = join(image_dir, to_delete)\n",
    "        img_paths.remove(to_delete)\n",
    "\n",
    "    # Remove images labels that are not in the repository\n",
    "    for i in bad_img_inLabel:\n",
    "        index_to_delete = dataframe[dataframe['Image'] == i].index\n",
    "        dataframe.drop(index_to_delete, inplace=True)\n",
    "\n",
    "    # Search for image IDs of images that have multiple labels or non usable labels\n",
    "    imgId_multiLabel = dataframe[(dataframe['Category'] != \"NEUTROPHIL\") & (dataframe['Category'] != \"MONOCYTE\") &\n",
    "              (dataframe['Category'] != \"LYMPHOCYTE\") & (dataframe['Category'] != \"EOSINOPHIL\")]['Image']\n",
    "\n",
    "    # Remove these images in img_paths file and in dataframe\n",
    "    for i in imgId_multiLabel :\n",
    "        index_to_delete = dataframe[dataframe['Image'] == i].index\n",
    "        dataframe.drop(index_to_delete, inplace=True)\n",
    "        to_delete = \"BloodImage_\" + (5 - len(str(i))) * str(0) + str(i)+ \".jpg\"\n",
    "        to_delete = join(image_dir, to_delete)\n",
    "        img_paths.remove(to_delete)\n",
    "\n",
    "    # Add a Image_path column to the dataframe in which we can find the path to this image \n",
    "    dataframe['Image_path'] = dataframe.apply(lambda x: join(image_dir, \"BloodImage_\" + (5 - len(str(x['Image']))) * str(0) + str(x['Image'])+ \".jpg\"), axis = 1)\n",
    "    \n",
    "    return dataframe"
   ]
  },
  {
   "cell_type": "code",
   "execution_count": 7,
   "metadata": {},
   "outputs": [],
   "source": [
    "def augmentation_darkwhite(dataframe):\n",
    "    '''\n",
    "    First augmentation of the dataframe : transform original images in RGB into Black&White images\n",
    "    '''\n",
    "    for line in dataframe['Image_path'] :\n",
    "        ## retrieval of categories for all originals pictures\n",
    "        path_find = dataframe[dataframe['Image_path']==str(line)].index.values.astype(int)[0]\n",
    "        category_info = dataframe.loc[path_find, 'Category']\n",
    "\n",
    "        index =  dataframe.loc[path_find, 'Image']\n",
    "\n",
    "        image_file = Image.open(str(line)) ## opening of original image with dataframe path\n",
    "        image_file = image_file.convert('1') ## conversion in black/white\n",
    "\n",
    "        line = str(line).split(\"/\") ## retrieval of name of image\n",
    "        new_image = str(line[-1]).replace('.jpg', '_darkwhite.jpg') ## add \"darkwhite\" at the end of name\n",
    "\n",
    "        file_to_save = '/'.join(line[:-1]) + '/' + str(new_image)\n",
    "        image_file.save(str(file_to_save)) ## save of new picture in folder\n",
    "\n",
    "        dataframe = dataframe.append({'Image' : str(index), 'Category' : str(category_info),'Image_path' : str(file_to_save)}, ignore_index=True) ## add lines with informations of new picture into dataframe\n",
    "    return dataframe"
   ]
  },
  {
   "cell_type": "code",
   "execution_count": 8,
   "metadata": {},
   "outputs": [],
   "source": [
    "def augmentation_rotate_horiz(dataframe):\n",
    "    '''\n",
    "    Second augmentation of the dataframe : transform all the images by rotating them horizontally\n",
    "    '''\n",
    "    for line in dataframe['Image_path'] :\n",
    "        ## retrieval of categories for all originals pictures\n",
    "        path_find = dataframe[dataframe['Image_path']==str(line)].index.values.astype(int)[0]\n",
    "        category_info = dataframe.loc[path_find, 'Category']\n",
    "\n",
    "        index =  dataframe.loc[path_find, 'Image']\n",
    "\n",
    "\n",
    "        image_file = Image.open(str(line)) ## opening of original image with dataframe path\n",
    "        image_file_horiz = image_file.rotate(180) ## horizontal reversal\n",
    "\n",
    "        line = str(line).split(\"/\")  ## retrieval of name of image\n",
    "        new_image = str(line[-1]).replace('.jpg', '_return_horiz.jpg') #### add \"return_horiz\" at the end of name\n",
    "\n",
    "\n",
    "        file_to_save = '/'.join(line[:-1]) + '/' + str(new_image)\n",
    "        image_file_horiz.save(str(file_to_save)) ## save of new picture in folder\n",
    "\n",
    "        dataframe = dataframe.append({'Image' : str(index), 'Category' : str(category_info),'Image_path' : str(file_to_save)}, ignore_index=True) ## add lines with informations of new picture into dataframe\n",
    "    return dataframe"
   ]
  },
  {
   "cell_type": "code",
   "execution_count": 9,
   "metadata": {},
   "outputs": [],
   "source": [
    "def augmentation_mirror(dataframe):\n",
    "    '''\n",
    "    Third augmentation of the dataframe : transform the images by making a vertical mirror of themselves\n",
    "    '''\n",
    "    for line in dataframe['Image_path'] :\n",
    "        ## retrieval of categories for all originals pictures\n",
    "        path_find = dataframe[dataframe['Image_path']==str(line)].index.values.astype(int)[0]\n",
    "        category_info = dataframe.loc[path_find, 'Category']\n",
    "\n",
    "        index =  dataframe.loc[path_find, 'Image']\n",
    "\n",
    "\n",
    "        image_file = Image.open(str(line))  ## opening of original image with dataframe path\n",
    "        image_file_mirror = ImageOps.flip(image_file) ## vertical reversal\n",
    "\n",
    "        line = str(line).split(\"/\") ## retrieval of name of image\n",
    "        new_image = str(line[-1]).replace('.jpg', '_mirror.jpg')  #### add \"mirror\" at the end of name\n",
    "\n",
    "\n",
    "        file_to_save = '/'.join(line[:-1]) + '/' + str(new_image)\n",
    "        image_file_mirror.save(str(file_to_save))## save of new picture in folder\n",
    "\n",
    "        dataframe = dataframe.append({'Image' : str(index), 'Category' : str(category_info),'Image_path' : str(file_to_save)}, ignore_index=True) ## add lines with informations of new picture into dataframe\n",
    "    return dataframe"
   ]
  },
  {
   "cell_type": "code",
   "execution_count": 10,
   "metadata": {},
   "outputs": [],
   "source": [
    "def augmentation_hsv(dataframe):\n",
    "    '''\n",
    "    Fourth augmentation of the dataframe : transform the images with HSV coloration\n",
    "    And save the final dataframe in a csv file\n",
    "    '''\n",
    "    for line in dataframe['Image_path'] :\n",
    "        ## retrieval of categories for all originals pictures\n",
    "        path_find = dataframe[dataframe['Image_path']==str(line)].index.values.astype(int)[0]\n",
    "        category_info = dataframe.loc[path_find, 'Category']\n",
    "\n",
    "        index =  dataframe.loc[path_find, 'Image']\n",
    "\n",
    "\n",
    "        image_file = cv2.imread(str(line))  ## opening of original image with dataframe path\n",
    "        image_file = cv2.cvtColor(image_file,cv2.COLOR_BGR2RGB)\n",
    "        image_file = cv2.cvtColor(image_file,cv2.COLOR_BGR2HSV)\n",
    "\n",
    "\n",
    "        line = str(line).split(\"/\") ## retrieval of name of image\n",
    "        new_image = str(line[-1]).replace('.jpg', '_HSV.jpg')  #### add \"HSV\" at the end of name\n",
    "\n",
    "\n",
    "        file_to_save = '/'.join(line[:-1]) + '/' + str(new_image)\n",
    "        plt.imsave(str(file_to_save),image_file)## save of new picture in folder\n",
    "\n",
    "        dataframe = dataframe.append({'Image' : str(index), 'Category' : str(category_info),'Image_path' : str(file_to_save)}, ignore_index=True) ## add lines with informations of new picture into dataframe\n",
    "\n",
    "    dataframe.to_csv('../output/kaggle/working/augmentated_datas/labels.csv', encoding='utf-8', index=False, mode ='a', header = 'True')\n",
    "    return dataframe"
   ]
  },
  {
   "cell_type": "markdown",
   "metadata": {},
   "source": [
    "### Augmentation of the dataframe"
   ]
  },
  {
   "cell_type": "code",
   "execution_count": 11,
   "metadata": {},
   "outputs": [
    {
     "name": "stdout",
     "output_type": "stream",
     "text": [
      "AUGMENTATION : RUNNING\n",
      "AUGMENTATION : DONE\n"
     ]
    }
   ],
   "source": [
    "if os.path.isfile('../output/kaggle/working/augmentated_datas/labels.csv') :\n",
    "    print(\"AUGMENTATION : DONE\")\n",
    "else :\n",
    "    print(\"AUGMENTATION : RUNNING\")\n",
    "    dataframe = pretreatment(dataframe, image_dir)\n",
    "    # Copy the images in a new repository in which we will store all the augmentated images\n",
    "    for image in dataframe['Image_path']:\n",
    "        try:\n",
    "            new_path = shutil.copy(image, \"../output/kaggle/working/augmentated_datas/\")\n",
    "        except shutil.SameFileError:\n",
    "            pass\n",
    "        dataframe['Image_path'].loc[dataframe['Image_path'] == image] = new_path\n",
    "    dataframe_darkwhite = augmentation_darkwhite(dataframe)\n",
    "    dataframe_horiz = augmentation_rotate_horiz(dataframe_darkwhite)\n",
    "    dataframe_miror = augmentation_mirror(dataframe_horiz)\n",
    "    dataframe_total = augmentation_hsv(dataframe_miror)\n",
    "    print(\"AUGMENTATION : DONE\")"
   ]
  },
  {
   "cell_type": "markdown",
   "metadata": {},
   "source": [
    "### Creation of train set and test set ( : this set will never be read for learning purposes)\n",
    "\n",
    "test_size : percentage of global set allocated for test set"
   ]
  },
  {
   "cell_type": "code",
   "execution_count": 12,
   "metadata": {},
   "outputs": [
    {
     "name": "stdout",
     "output_type": "stream",
     "text": [
      "Shape of data : train: (4719, 3) test: (833, 3)\n",
      "Train : \n",
      " NEUTROPHIL    2801\n",
      "EOSINOPHIL    1197\n",
      "LYMPHOCYTE     449\n",
      "MONOCYTE       272\n",
      "Name: Category, dtype: int64 \n",
      "\n",
      "Test : \n",
      " NEUTROPHIL    495\n",
      "EOSINOPHIL    211\n",
      "LYMPHOCYTE     79\n",
      "MONOCYTE       48\n",
      "Name: Category, dtype: int64\n"
     ]
    }
   ],
   "source": [
    "augmentated_dataframe = pd.read_csv('../output/kaggle/working/augmentated_datas/labels.csv')\n",
    "train_df, test_df = train_test_split(\n",
    "    augmentated_dataframe,\n",
    "    test_size = 0.15,\n",
    "    stratify = augmentated_dataframe['Category']\n",
    ")\n",
    "print(\"Shape of data : train:\", f\"{train_df.shape}\", \"test:\", f\"{test_df.shape}\")\n",
    "print(\"Train : \\n\", train_df.Category.value_counts(), '\\n')\n",
    "print(\"Test : \\n\", test_df.Category.value_counts())"
   ]
  },
  {
   "cell_type": "markdown",
   "metadata": {},
   "source": [
    "## 2. Convolutional Neural Network (CNN)"
   ]
  },
  {
   "cell_type": "markdown",
   "metadata": {},
   "source": [
    "Convolutional Neural Network \n",
    "    To recognize all white blood cell types it's important to set up the model, it's really important to obtain a good recognition (measured with accuracy) and few errors (measured with loss)\n",
    "    Calculations are made on a training set, to obtain better results the training set is split in batch, so the result per epoch is represented by the mean of accuracy and loss of every batch\n",
    "    If the size of batch is too small, the learning is based on few picture it's not representative and the learning is not good.\n",
    "    \n",
    "#### Parameters of Convolutional Neural Network :\n",
    "* epochs : number of iteration of learning in which the entire train set is used; there is no default value for this parameter it depends of the learning process and can be increase to improve accuracy\n",
    "* batch_size : important parameter, determine the size of the batch "
   ]
  },
  {
   "cell_type": "code",
   "execution_count": 13,
   "metadata": {},
   "outputs": [],
   "source": [
    "epochs = 150\n",
    "batch_size = 95\n",
    "\n",
    "dir = \"./\""
   ]
  },
  {
   "cell_type": "code",
   "execution_count": 14,
   "metadata": {},
   "outputs": [],
   "source": [
    "def get_model():\n",
    "    '''\n",
    "    Creation of the Convolutional Neural Network model, which is composed of :\n",
    "        - Lambda layer : used to change the input data, here the input data are multiply by 1/255\n",
    "        - Convolutional layer : 32 filters and kernel size is a square of 2 pixels - 3D * 32 filters\n",
    "        - Convolutional layer : 64 filters and kernel size is a square of 2 pixels - 3D * 64 filters\n",
    "        - Convolutional layer : 128 filters and kernel size is a square of 2 pixels - 3D * 128 filters\n",
    "        - Flatten layer : 64 neurons - 1D * 64 neurons\n",
    "        - Flatten layer : 4 neurons - 1D * 4 neurons correspond of 4 categories \"Neutrophil\", \"Eosinophil\", \"Monocyte\", \"Lymphocyte\"\n",
    "        \n",
    "        - Dropout parameter : used to reduce overfitting by \"switching off\" some neurons randomly; 0.2 correspond to the percent of switched off neurons\n",
    "        - Activation functions : 'RELU' and 'Softmax', the last one is used to found categories\n",
    "        - Optimizer : stochastic function 'rmsprop' used to calculte the loss (difference between reality and predictions) ; stochastic is better to find the global minima and not get stuck in a local minima\n",
    "        \n",
    "    '''\n",
    "    model = Sequential()\n",
    "    model.add(Lambda(lambda x:x*1./255., input_shape=(120,160,3), output_shape=(120,160,3)))\n",
    "\n",
    "\n",
    "    model.add(Conv2D(32,(3,3), input_shape=(120,160,3)))\n",
    "    model.add(Activation('relu'))\n",
    "    model.add(MaxPooling2D(pool_size=(2,2)))\n",
    "\n",
    "    model.add(Conv2D(64,(3,3)))\n",
    "    model.add(Activation('relu'))\n",
    "    model.add(MaxPooling2D(pool_size=(2,2)))\n",
    "\n",
    "\n",
    "    model.add(Conv2D(128,(3,3)))\n",
    "    model.add(Activation('relu'))\n",
    "    model.add(MaxPooling2D(pool_size=(2,2)))\n",
    "\n",
    "    \n",
    "    model.add(Flatten())   \n",
    "    model.add(Dense(64))\n",
    "    model.add(Activation('relu'))\n",
    "    model.add(Dropout(0.2))\n",
    "    \n",
    "    model.add(Dense(4))\n",
    "    model.add(Activation('softmax'))\n",
    "\n",
    "    model.compile(loss = 'categorical_crossentropy', optimizer = 'rmsprop', metrics=['categorical_accuracy']) \n",
    "\n",
    "    return model"
   ]
  },
  {
   "cell_type": "code",
   "execution_count": 15,
   "metadata": {},
   "outputs": [
    {
     "name": "stdout",
     "output_type": "stream",
     "text": [
      "Model: \"sequential\"\n",
      "_________________________________________________________________\n",
      "Layer (type)                 Output Shape              Param #   \n",
      "=================================================================\n",
      "lambda (Lambda)              (None, 120, 160, 3)       0         \n",
      "_________________________________________________________________\n",
      "conv2d (Conv2D)              (None, 118, 158, 32)      896       \n",
      "_________________________________________________________________\n",
      "activation (Activation)      (None, 118, 158, 32)      0         \n",
      "_________________________________________________________________\n",
      "max_pooling2d (MaxPooling2D) (None, 59, 79, 32)        0         \n",
      "_________________________________________________________________\n",
      "conv2d_1 (Conv2D)            (None, 57, 77, 64)        18496     \n",
      "_________________________________________________________________\n",
      "activation_1 (Activation)    (None, 57, 77, 64)        0         \n",
      "_________________________________________________________________\n",
      "max_pooling2d_1 (MaxPooling2 (None, 28, 38, 64)        0         \n",
      "_________________________________________________________________\n",
      "conv2d_2 (Conv2D)            (None, 26, 36, 128)       73856     \n",
      "_________________________________________________________________\n",
      "activation_2 (Activation)    (None, 26, 36, 128)       0         \n",
      "_________________________________________________________________\n",
      "max_pooling2d_2 (MaxPooling2 (None, 13, 18, 128)       0         \n",
      "_________________________________________________________________\n",
      "flatten (Flatten)            (None, 29952)             0         \n",
      "_________________________________________________________________\n",
      "dense (Dense)                (None, 64)                1916992   \n",
      "_________________________________________________________________\n",
      "activation_3 (Activation)    (None, 64)                0         \n",
      "_________________________________________________________________\n",
      "dropout (Dropout)            (None, 64)                0         \n",
      "_________________________________________________________________\n",
      "dense_1 (Dense)              (None, 4)                 260       \n",
      "_________________________________________________________________\n",
      "activation_4 (Activation)    (None, 4)                 0         \n",
      "=================================================================\n",
      "Total params: 2,010,500\n",
      "Trainable params: 2,010,500\n",
      "Non-trainable params: 0\n",
      "_________________________________________________________________\n",
      "None\n"
     ]
    }
   ],
   "source": [
    "model_info = get_model()\n",
    "print(model_info.summary())"
   ]
  },
  {
   "cell_type": "markdown",
   "metadata": {},
   "source": [
    "### Modification of images"
   ]
  },
  {
   "cell_type": "code",
   "execution_count": 16,
   "metadata": {},
   "outputs": [],
   "source": [
    "def get_data(dataframe) :\n",
    "    \n",
    "    '''\n",
    "    X : array of resized pictures (120,160,3) thanks to pillow package \n",
    "    y : array of corresponding labels for all pictures\n",
    "    '''\n",
    "\n",
    "    X = []\n",
    "    y = []\n",
    "\n",
    "    for img_filename in dataframe['Image_path'] :\n",
    "        img_file = cv2.imread(str(img_filename))\n",
    "        if img_file is not None :\n",
    "\n",
    "            img_file = np.array(Image.fromarray(img_file).resize((160,120)))\n",
    "            #img_arr = np.asarray(img_file)\n",
    "            X.append(img_file)\n",
    "\n",
    "\n",
    "            path_find = dataframe[dataframe['Image_path']==str(img_filename)].index.values.astype(int)[0]\n",
    "            category_info = dataframe.loc[path_find, 'Category']\n",
    "            y.append(str(category_info))\n",
    "\n",
    "\n",
    "    X = np.asarray(X)\n",
    "    y = np.asarray(y)\n",
    "    return X,y"
   ]
  },
  {
   "cell_type": "code",
   "execution_count": 17,
   "metadata": {},
   "outputs": [],
   "source": [
    "X_train, y_train = get_data(train_df)\n",
    "X_test, y_test = get_data(test_df)"
   ]
  },
  {
   "cell_type": "markdown",
   "metadata": {},
   "source": [
    "### Running the CNN model :\n",
    "* encoder : used to modify string labels in integers labels for train and test set\n",
    "* to_categorical : used to force prediction in one of the 4 classes and transform as binary array (ex : \"Eosinophil\" -> [1., 0., 0., 0.]) \n",
    "* validation_split : validation set created from training set ; 0.2 correspond to the percent of training set used for validation set\n",
    "* shuffle : used to mixed the training set ; it's important to have a training with no \"habits\" from CNN\n",
    "* save_weights : create a .h5 file with weights of all neurons after training (creating at the last epoch)"
   ]
  },
  {
   "cell_type": "code",
   "execution_count": 18,
   "metadata": {},
   "outputs": [],
   "source": [
    "encoder = LabelEncoder()\n",
    "encoder.fit(y_train)\n",
    "y_train = encoder.transform(y_train) ##transform \"EOSINOPHIL\", \"LYMPHOCYTE\", \"MONOCYTE\", \"NEUTROPHIL\" in number 0-3\n",
    "y_test = encoder.transform(y_test) ##transform \"EOSINOPHIL\", \"LYMPHOCYTE\", \"MONOCYTE\", \"NEUTROPHIL\" in number 0-3\n",
    "##after verification, the transformation is in alphabetical order : 0 : \"EOSINOPHIL\"/ 1: \"LYMPHOCYTE\"/ 2:\"MONOCYTES\"/3:\"NEUTROPHIL\"\n",
    "\n",
    "y_test = to_categorical(y_test, 4)\n",
    "y_train = to_categorical(y_train,4)"
   ]
  },
  {
   "cell_type": "markdown",
   "metadata": {},
   "source": [
    "### Fits the model on batches"
   ]
  },
  {
   "cell_type": "code",
   "execution_count": 19,
   "metadata": {},
   "outputs": [
    {
     "name": "stdout",
     "output_type": "stream",
     "text": [
      "Epoch 1/150\n",
      "40/40 [==============================] - 2s 44ms/step - loss: 1.2212 - categorical_accuracy: 0.5706 - val_loss: 1.1003 - val_categorical_accuracy: 0.5636\n",
      "Epoch 2/150\n",
      "40/40 [==============================] - 2s 38ms/step - loss: 1.0787 - categorical_accuracy: 0.6008 - val_loss: 1.1051 - val_categorical_accuracy: 0.5636\n",
      "Epoch 3/150\n",
      "40/40 [==============================] - 1s 31ms/step - loss: 1.0687 - categorical_accuracy: 0.6011 - val_loss: 1.1390 - val_categorical_accuracy: 0.5636\n",
      "Epoch 4/150\n",
      "40/40 [==============================] - 1s 33ms/step - loss: 1.0600 - categorical_accuracy: 0.6013 - val_loss: 1.0838 - val_categorical_accuracy: 0.5667\n",
      "Epoch 5/150\n",
      "40/40 [==============================] - 1s 32ms/step - loss: 1.0488 - categorical_accuracy: 0.6042 - val_loss: 1.0809 - val_categorical_accuracy: 0.5720\n",
      "Epoch 6/150\n",
      "40/40 [==============================] - 1s 30ms/step - loss: 1.0408 - categorical_accuracy: 0.6050 - val_loss: 1.0758 - val_categorical_accuracy: 0.5731\n",
      "Epoch 7/150\n",
      "40/40 [==============================] - 1s 30ms/step - loss: 1.0062 - categorical_accuracy: 0.6082 - val_loss: 1.2356 - val_categorical_accuracy: 0.5720\n",
      "Epoch 8/150\n",
      "40/40 [==============================] - 1s 31ms/step - loss: 0.9915 - categorical_accuracy: 0.6148 - val_loss: 1.0296 - val_categorical_accuracy: 0.5858\n",
      "Epoch 9/150\n",
      "40/40 [==============================] - 1s 30ms/step - loss: 0.9759 - categorical_accuracy: 0.6183 - val_loss: 1.0670 - val_categorical_accuracy: 0.5847\n",
      "Epoch 10/150\n",
      "40/40 [==============================] - 1s 30ms/step - loss: 0.9905 - categorical_accuracy: 0.6193 - val_loss: 1.0605 - val_categorical_accuracy: 0.5794\n",
      "Epoch 11/150\n",
      "40/40 [==============================] - 1s 30ms/step - loss: 0.9415 - categorical_accuracy: 0.6283 - val_loss: 1.0352 - val_categorical_accuracy: 0.5858\n",
      "Epoch 12/150\n",
      "40/40 [==============================] - 1s 31ms/step - loss: 0.9148 - categorical_accuracy: 0.6363 - val_loss: 1.0256 - val_categorical_accuracy: 0.5879\n",
      "Epoch 13/150\n",
      "40/40 [==============================] - 1s 30ms/step - loss: 0.8957 - categorical_accuracy: 0.6490 - val_loss: 1.0722 - val_categorical_accuracy: 0.5869\n",
      "Epoch 14/150\n",
      "40/40 [==============================] - 1s 30ms/step - loss: 0.8667 - categorical_accuracy: 0.6588 - val_loss: 1.0865 - val_categorical_accuracy: 0.5784\n",
      "Epoch 15/150\n",
      "40/40 [==============================] - 1s 30ms/step - loss: 0.8367 - categorical_accuracy: 0.6668 - val_loss: 1.0005 - val_categorical_accuracy: 0.5975\n",
      "Epoch 16/150\n",
      "40/40 [==============================] - 1s 30ms/step - loss: 0.8278 - categorical_accuracy: 0.6774 - val_loss: 0.9924 - val_categorical_accuracy: 0.6006\n",
      "Epoch 17/150\n",
      "40/40 [==============================] - 1s 30ms/step - loss: 0.7621 - categorical_accuracy: 0.6964 - val_loss: 0.9984 - val_categorical_accuracy: 0.5975\n",
      "Epoch 18/150\n",
      "40/40 [==============================] - 1s 30ms/step - loss: 0.7083 - categorical_accuracy: 0.7099 - val_loss: 1.0162 - val_categorical_accuracy: 0.6314\n",
      "Epoch 19/150\n",
      "40/40 [==============================] - 1s 30ms/step - loss: 0.6818 - categorical_accuracy: 0.7242 - val_loss: 1.1681 - val_categorical_accuracy: 0.6038\n",
      "Epoch 20/150\n",
      "40/40 [==============================] - 1s 30ms/step - loss: 0.6323 - categorical_accuracy: 0.7510 - val_loss: 1.0923 - val_categorical_accuracy: 0.6197\n",
      "Epoch 21/150\n",
      "40/40 [==============================] - 1s 31ms/step - loss: 0.5794 - categorical_accuracy: 0.7756 - val_loss: 1.1043 - val_categorical_accuracy: 0.6250\n",
      "Epoch 22/150\n",
      "40/40 [==============================] - 1s 30ms/step - loss: 0.5079 - categorical_accuracy: 0.7955 - val_loss: 1.1195 - val_categorical_accuracy: 0.6483\n",
      "Epoch 23/150\n",
      "40/40 [==============================] - 1s 30ms/step - loss: 0.4548 - categorical_accuracy: 0.8262 - val_loss: 0.9776 - val_categorical_accuracy: 0.6653\n",
      "Epoch 24/150\n",
      "40/40 [==============================] - 1s 30ms/step - loss: 0.3950 - categorical_accuracy: 0.8458 - val_loss: 1.1012 - val_categorical_accuracy: 0.6981\n",
      "Epoch 25/150\n",
      "40/40 [==============================] - 1s 30ms/step - loss: 0.3258 - categorical_accuracy: 0.8826 - val_loss: 0.9307 - val_categorical_accuracy: 0.7097\n",
      "Epoch 26/150\n",
      "40/40 [==============================] - 1s 31ms/step - loss: 0.2851 - categorical_accuracy: 0.8922 - val_loss: 1.0357 - val_categorical_accuracy: 0.6642\n",
      "Epoch 27/150\n",
      "40/40 [==============================] - 1s 31ms/step - loss: 0.2625 - categorical_accuracy: 0.9118 - val_loss: 1.0177 - val_categorical_accuracy: 0.7066\n",
      "Epoch 28/150\n",
      "40/40 [==============================] - 1s 32ms/step - loss: 0.1901 - categorical_accuracy: 0.9354 - val_loss: 1.2627 - val_categorical_accuracy: 0.6970\n",
      "Epoch 29/150\n",
      "40/40 [==============================] - 1s 31ms/step - loss: 0.1947 - categorical_accuracy: 0.9425 - val_loss: 0.9319 - val_categorical_accuracy: 0.7881\n",
      "Epoch 30/150\n",
      "40/40 [==============================] - 1s 32ms/step - loss: 0.1493 - categorical_accuracy: 0.9521 - val_loss: 1.0549 - val_categorical_accuracy: 0.7595\n",
      "Epoch 31/150\n",
      "40/40 [==============================] - 1s 31ms/step - loss: 0.1437 - categorical_accuracy: 0.9558 - val_loss: 0.8927 - val_categorical_accuracy: 0.7754\n",
      "Epoch 32/150\n",
      "40/40 [==============================] - 1s 30ms/step - loss: 0.0900 - categorical_accuracy: 0.9727 - val_loss: 0.9091 - val_categorical_accuracy: 0.8242\n",
      "Epoch 33/150\n",
      "40/40 [==============================] - 1s 30ms/step - loss: 0.0812 - categorical_accuracy: 0.9762 - val_loss: 1.1572 - val_categorical_accuracy: 0.7585\n",
      "Epoch 34/150\n",
      "40/40 [==============================] - 1s 30ms/step - loss: 0.1128 - categorical_accuracy: 0.9640 - val_loss: 1.3374 - val_categorical_accuracy: 0.7712\n",
      "Epoch 35/150\n",
      "40/40 [==============================] - 1s 30ms/step - loss: 0.0583 - categorical_accuracy: 0.9820 - val_loss: 0.8920 - val_categorical_accuracy: 0.8358\n",
      "Epoch 36/150\n",
      "40/40 [==============================] - 1s 30ms/step - loss: 0.0841 - categorical_accuracy: 0.9754 - val_loss: 1.0374 - val_categorical_accuracy: 0.8284\n",
      "Epoch 37/150\n",
      "40/40 [==============================] - 1s 30ms/step - loss: 0.0663 - categorical_accuracy: 0.9804 - val_loss: 0.9347 - val_categorical_accuracy: 0.8475\n",
      "Epoch 38/150\n",
      "40/40 [==============================] - 1s 30ms/step - loss: 0.0599 - categorical_accuracy: 0.9828 - val_loss: 0.8589 - val_categorical_accuracy: 0.8189\n",
      "Epoch 39/150\n",
      "40/40 [==============================] - 1s 31ms/step - loss: 0.0551 - categorical_accuracy: 0.9825 - val_loss: 0.7913 - val_categorical_accuracy: 0.8549\n",
      "Epoch 40/150\n",
      "40/40 [==============================] - 1s 30ms/step - loss: 0.0608 - categorical_accuracy: 0.9785 - val_loss: 1.8110 - val_categorical_accuracy: 0.7595\n",
      "Epoch 41/150\n",
      "40/40 [==============================] - 1s 30ms/step - loss: 0.0388 - categorical_accuracy: 0.9894 - val_loss: 0.9056 - val_categorical_accuracy: 0.8432\n",
      "Epoch 42/150\n",
      "40/40 [==============================] - 1s 30ms/step - loss: 0.1217 - categorical_accuracy: 0.9804 - val_loss: 0.8876 - val_categorical_accuracy: 0.8602\n",
      "Epoch 43/150\n",
      "40/40 [==============================] - 1s 30ms/step - loss: 0.0997 - categorical_accuracy: 0.9780 - val_loss: 0.9147 - val_categorical_accuracy: 0.8358\n",
      "Epoch 44/150\n",
      "40/40 [==============================] - 1s 30ms/step - loss: 0.0361 - categorical_accuracy: 0.9894 - val_loss: 0.8592 - val_categorical_accuracy: 0.8845\n",
      "Epoch 45/150\n",
      "40/40 [==============================] - 1s 30ms/step - loss: 0.0275 - categorical_accuracy: 0.9907 - val_loss: 0.9830 - val_categorical_accuracy: 0.8655\n",
      "Epoch 46/150\n",
      "40/40 [==============================] - 1s 30ms/step - loss: 0.0372 - categorical_accuracy: 0.9878 - val_loss: 0.8143 - val_categorical_accuracy: 0.8729\n",
      "Epoch 47/150\n",
      "40/40 [==============================] - 1s 30ms/step - loss: 0.0410 - categorical_accuracy: 0.9862 - val_loss: 0.8376 - val_categorical_accuracy: 0.8739\n",
      "Epoch 48/150\n",
      "40/40 [==============================] - 1s 32ms/step - loss: 0.0440 - categorical_accuracy: 0.9833 - val_loss: 0.7952 - val_categorical_accuracy: 0.8867\n",
      "Epoch 49/150\n",
      "40/40 [==============================] - 1s 30ms/step - loss: 0.0277 - categorical_accuracy: 0.9894 - val_loss: 0.9232 - val_categorical_accuracy: 0.8729\n",
      "Epoch 50/150\n",
      "40/40 [==============================] - 1s 30ms/step - loss: 0.0270 - categorical_accuracy: 0.9915 - val_loss: 1.2123 - val_categorical_accuracy: 0.8485\n",
      "Epoch 51/150\n",
      "40/40 [==============================] - 1s 34ms/step - loss: 0.0523 - categorical_accuracy: 0.9857 - val_loss: 0.7699 - val_categorical_accuracy: 0.9025\n",
      "Epoch 52/150\n",
      "40/40 [==============================] - 1s 31ms/step - loss: 0.0447 - categorical_accuracy: 0.9868 - val_loss: 0.8961 - val_categorical_accuracy: 0.8729\n",
      "Epoch 53/150\n",
      "40/40 [==============================] - 1s 32ms/step - loss: 0.0162 - categorical_accuracy: 0.9963 - val_loss: 0.9962 - val_categorical_accuracy: 0.8771\n",
      "Epoch 54/150\n",
      "40/40 [==============================] - 1s 33ms/step - loss: 0.0313 - categorical_accuracy: 0.9899 - val_loss: 0.8177 - val_categorical_accuracy: 0.8994\n",
      "Epoch 55/150\n",
      "40/40 [==============================] - 1s 31ms/step - loss: 0.0343 - categorical_accuracy: 0.9902 - val_loss: 1.0691 - val_categorical_accuracy: 0.8824\n",
      "Epoch 56/150\n",
      "40/40 [==============================] - 1s 31ms/step - loss: 0.0678 - categorical_accuracy: 0.9865 - val_loss: 0.7909 - val_categorical_accuracy: 0.9036\n",
      "Epoch 57/150\n",
      "40/40 [==============================] - 1s 32ms/step - loss: 0.0315 - categorical_accuracy: 0.9931 - val_loss: 1.5124 - val_categorical_accuracy: 0.7807\n",
      "Epoch 58/150\n",
      "40/40 [==============================] - 1s 30ms/step - loss: 0.0291 - categorical_accuracy: 0.9913 - val_loss: 0.5874 - val_categorical_accuracy: 0.9089\n",
      "Epoch 59/150\n",
      "40/40 [==============================] - 1s 30ms/step - loss: 0.0287 - categorical_accuracy: 0.9918 - val_loss: 1.0352 - val_categorical_accuracy: 0.8972\n",
      "Epoch 60/150\n",
      "40/40 [==============================] - 1s 30ms/step - loss: 0.0188 - categorical_accuracy: 0.9942 - val_loss: 1.0429 - val_categorical_accuracy: 0.8792\n",
      "Epoch 61/150\n",
      "40/40 [==============================] - 1s 30ms/step - loss: 0.0186 - categorical_accuracy: 0.9939 - val_loss: 1.0668 - val_categorical_accuracy: 0.9078\n",
      "Epoch 62/150\n",
      "40/40 [==============================] - 1s 30ms/step - loss: 0.0583 - categorical_accuracy: 0.9849 - val_loss: 0.9546 - val_categorical_accuracy: 0.9068\n",
      "Epoch 63/150\n",
      "40/40 [==============================] - 1s 30ms/step - loss: 0.0356 - categorical_accuracy: 0.9902 - val_loss: 0.8190 - val_categorical_accuracy: 0.9078\n",
      "Epoch 64/150\n",
      "40/40 [==============================] - 1s 30ms/step - loss: 0.0224 - categorical_accuracy: 0.9928 - val_loss: 0.8430 - val_categorical_accuracy: 0.9047\n",
      "Epoch 65/150\n",
      "40/40 [==============================] - 1s 31ms/step - loss: 0.0557 - categorical_accuracy: 0.9846 - val_loss: 0.8741 - val_categorical_accuracy: 0.9015\n",
      "Epoch 66/150\n",
      "40/40 [==============================] - 1s 31ms/step - loss: 0.0201 - categorical_accuracy: 0.9944 - val_loss: 1.1203 - val_categorical_accuracy: 0.8453\n",
      "Epoch 67/150\n",
      "40/40 [==============================] - 1s 30ms/step - loss: 0.1706 - categorical_accuracy: 0.9767 - val_loss: 0.8208 - val_categorical_accuracy: 0.9121\n",
      "Epoch 68/150\n",
      "40/40 [==============================] - 1s 30ms/step - loss: 0.0311 - categorical_accuracy: 0.9910 - val_loss: 0.7115 - val_categorical_accuracy: 0.9227\n",
      "Epoch 69/150\n",
      "40/40 [==============================] - 1s 30ms/step - loss: 0.0146 - categorical_accuracy: 0.9950 - val_loss: 0.9458 - val_categorical_accuracy: 0.8994\n",
      "Epoch 70/150\n",
      "40/40 [==============================] - 1s 30ms/step - loss: 0.0151 - categorical_accuracy: 0.9942 - val_loss: 1.0730 - val_categorical_accuracy: 0.8972\n",
      "Epoch 71/150\n",
      "40/40 [==============================] - 1s 30ms/step - loss: 0.0849 - categorical_accuracy: 0.9804 - val_loss: 0.8227 - val_categorical_accuracy: 0.9142\n",
      "Epoch 72/150\n",
      "40/40 [==============================] - 1s 30ms/step - loss: 0.0200 - categorical_accuracy: 0.9931 - val_loss: 0.8887 - val_categorical_accuracy: 0.9015\n",
      "Epoch 73/150\n",
      "40/40 [==============================] - 1s 30ms/step - loss: 0.0215 - categorical_accuracy: 0.9947 - val_loss: 0.9831 - val_categorical_accuracy: 0.9015\n",
      "Epoch 74/150\n",
      "40/40 [==============================] - 1s 31ms/step - loss: 0.0475 - categorical_accuracy: 0.9905 - val_loss: 0.9216 - val_categorical_accuracy: 0.9153\n",
      "Epoch 75/150\n",
      "40/40 [==============================] - 1s 31ms/step - loss: 0.0186 - categorical_accuracy: 0.9952 - val_loss: 0.9592 - val_categorical_accuracy: 0.9068\n",
      "Epoch 76/150\n",
      "40/40 [==============================] - 1s 30ms/step - loss: 0.0358 - categorical_accuracy: 0.9907 - val_loss: 0.7629 - val_categorical_accuracy: 0.9153\n",
      "Epoch 77/150\n",
      "40/40 [==============================] - 1s 30ms/step - loss: 0.0079 - categorical_accuracy: 0.9979 - val_loss: 0.5900 - val_categorical_accuracy: 0.9227\n",
      "Epoch 78/150\n",
      "40/40 [==============================] - 1s 30ms/step - loss: 0.0157 - categorical_accuracy: 0.9950 - val_loss: 2.8549 - val_categorical_accuracy: 0.7733\n",
      "Epoch 79/150\n",
      "40/40 [==============================] - 1s 32ms/step - loss: 0.0374 - categorical_accuracy: 0.9899 - val_loss: 1.3775 - val_categorical_accuracy: 0.8665\n",
      "Epoch 80/150\n",
      "40/40 [==============================] - 1s 31ms/step - loss: 0.0217 - categorical_accuracy: 0.9939 - val_loss: 1.2262 - val_categorical_accuracy: 0.8803\n",
      "Epoch 81/150\n",
      "40/40 [==============================] - 1s 30ms/step - loss: 0.0341 - categorical_accuracy: 0.9883 - val_loss: 0.7674 - val_categorical_accuracy: 0.9227\n",
      "Epoch 82/150\n",
      "40/40 [==============================] - 1s 30ms/step - loss: 0.0242 - categorical_accuracy: 0.9942 - val_loss: 0.5889 - val_categorical_accuracy: 0.8962\n",
      "Epoch 83/150\n",
      "40/40 [==============================] - 1s 31ms/step - loss: 0.0326 - categorical_accuracy: 0.9918 - val_loss: 0.9176 - val_categorical_accuracy: 0.9280\n",
      "Epoch 84/150\n",
      "40/40 [==============================] - 1s 31ms/step - loss: 0.0117 - categorical_accuracy: 0.9968 - val_loss: 0.9895 - val_categorical_accuracy: 0.9227\n",
      "Epoch 85/150\n",
      "40/40 [==============================] - 1s 30ms/step - loss: 0.0161 - categorical_accuracy: 0.9944 - val_loss: 1.1007 - val_categorical_accuracy: 0.9142\n",
      "Epoch 86/150\n",
      "40/40 [==============================] - 1s 31ms/step - loss: 0.0287 - categorical_accuracy: 0.9934 - val_loss: 1.0402 - val_categorical_accuracy: 0.9227\n",
      "Epoch 87/150\n",
      "40/40 [==============================] - 1s 30ms/step - loss: 0.0216 - categorical_accuracy: 0.9931 - val_loss: 0.7286 - val_categorical_accuracy: 0.9100\n",
      "Epoch 88/150\n",
      "40/40 [==============================] - 1s 30ms/step - loss: 0.0244 - categorical_accuracy: 0.9913 - val_loss: 0.7362 - val_categorical_accuracy: 0.9036\n",
      "Epoch 89/150\n",
      "40/40 [==============================] - 1s 30ms/step - loss: 0.0159 - categorical_accuracy: 0.9960 - val_loss: 0.8071 - val_categorical_accuracy: 0.9301\n",
      "Epoch 90/150\n",
      "40/40 [==============================] - 1s 30ms/step - loss: 0.0194 - categorical_accuracy: 0.9947 - val_loss: 0.8059 - val_categorical_accuracy: 0.9301\n",
      "Epoch 91/150\n",
      "40/40 [==============================] - 1s 30ms/step - loss: 0.0143 - categorical_accuracy: 0.9947 - val_loss: 0.8974 - val_categorical_accuracy: 0.9290\n",
      "Epoch 92/150\n",
      "40/40 [==============================] - 1s 32ms/step - loss: 0.0157 - categorical_accuracy: 0.9958 - val_loss: 0.9268 - val_categorical_accuracy: 0.9216\n",
      "Epoch 93/150\n",
      "40/40 [==============================] - 1s 30ms/step - loss: 0.0102 - categorical_accuracy: 0.9966 - val_loss: 1.0916 - val_categorical_accuracy: 0.9142\n",
      "Epoch 94/150\n",
      "40/40 [==============================] - 1s 30ms/step - loss: 0.0295 - categorical_accuracy: 0.9921 - val_loss: 0.7611 - val_categorical_accuracy: 0.9290\n",
      "Epoch 95/150\n",
      "40/40 [==============================] - 1s 30ms/step - loss: 0.0197 - categorical_accuracy: 0.9934 - val_loss: 0.8221 - val_categorical_accuracy: 0.9301\n",
      "Epoch 96/150\n",
      "40/40 [==============================] - 1s 30ms/step - loss: 0.0252 - categorical_accuracy: 0.9928 - val_loss: 0.7313 - val_categorical_accuracy: 0.9184\n",
      "Epoch 97/150\n",
      "40/40 [==============================] - 1s 30ms/step - loss: 0.0277 - categorical_accuracy: 0.9907 - val_loss: 0.9369 - val_categorical_accuracy: 0.9153\n",
      "Epoch 98/150\n",
      "40/40 [==============================] - 1s 30ms/step - loss: 0.0103 - categorical_accuracy: 0.9958 - val_loss: 1.4560 - val_categorical_accuracy: 0.8877\n",
      "Epoch 99/150\n"
     ]
    },
    {
     "name": "stdout",
     "output_type": "stream",
     "text": [
      "40/40 [==============================] - 1s 33ms/step - loss: 0.0332 - categorical_accuracy: 0.9913 - val_loss: 0.8351 - val_categorical_accuracy: 0.9258\n",
      "Epoch 100/150\n",
      "40/40 [==============================] - 1s 31ms/step - loss: 0.0186 - categorical_accuracy: 0.9944 - val_loss: 0.7688 - val_categorical_accuracy: 0.9364\n",
      "Epoch 101/150\n",
      "40/40 [==============================] - 1s 32ms/step - loss: 0.0191 - categorical_accuracy: 0.9939 - val_loss: 0.8330 - val_categorical_accuracy: 0.9258\n",
      "Epoch 102/150\n",
      "40/40 [==============================] - 1s 31ms/step - loss: 0.0153 - categorical_accuracy: 0.9958 - val_loss: 2.0014 - val_categorical_accuracy: 0.7987\n",
      "Epoch 103/150\n",
      "40/40 [==============================] - 1s 32ms/step - loss: 0.0187 - categorical_accuracy: 0.9934 - val_loss: 0.5456 - val_categorical_accuracy: 0.9311\n",
      "Epoch 104/150\n",
      "40/40 [==============================] - 1s 30ms/step - loss: 0.0151 - categorical_accuracy: 0.9955 - val_loss: 1.1726 - val_categorical_accuracy: 0.8994\n",
      "Epoch 105/150\n",
      "40/40 [==============================] - 1s 33ms/step - loss: 0.0149 - categorical_accuracy: 0.9950 - val_loss: 1.4522 - val_categorical_accuracy: 0.9110\n",
      "Epoch 106/150\n",
      "40/40 [==============================] - 1s 31ms/step - loss: 0.0250 - categorical_accuracy: 0.9918 - val_loss: 0.7113 - val_categorical_accuracy: 0.9237\n",
      "Epoch 107/150\n",
      "40/40 [==============================] - 1s 30ms/step - loss: 0.0111 - categorical_accuracy: 0.9971 - val_loss: 0.7897 - val_categorical_accuracy: 0.9248\n",
      "Epoch 108/150\n",
      "40/40 [==============================] - 1s 30ms/step - loss: 0.0532 - categorical_accuracy: 0.9899 - val_loss: 0.8984 - val_categorical_accuracy: 0.9258\n",
      "Epoch 109/150\n",
      "40/40 [==============================] - 1s 30ms/step - loss: 0.0135 - categorical_accuracy: 0.9971 - val_loss: 0.6771 - val_categorical_accuracy: 0.9280\n",
      "Epoch 110/150\n",
      "40/40 [==============================] - 1s 32ms/step - loss: 0.0182 - categorical_accuracy: 0.9968 - val_loss: 0.8779 - val_categorical_accuracy: 0.9269\n",
      "Epoch 111/150\n",
      "40/40 [==============================] - 1s 30ms/step - loss: 0.0087 - categorical_accuracy: 0.9976 - val_loss: 1.3631 - val_categorical_accuracy: 0.9100\n",
      "Epoch 112/150\n",
      "40/40 [==============================] - 1s 30ms/step - loss: 0.0454 - categorical_accuracy: 0.9907 - val_loss: 0.8708 - val_categorical_accuracy: 0.9280\n",
      "Epoch 113/150\n",
      "40/40 [==============================] - 1s 30ms/step - loss: 0.0107 - categorical_accuracy: 0.9976 - val_loss: 1.0261 - val_categorical_accuracy: 0.9258\n",
      "Epoch 114/150\n",
      "40/40 [==============================] - 1s 30ms/step - loss: 0.0235 - categorical_accuracy: 0.9944 - val_loss: 0.7391 - val_categorical_accuracy: 0.9333\n",
      "Epoch 115/150\n",
      "40/40 [==============================] - 1s 30ms/step - loss: 0.0405 - categorical_accuracy: 0.9921 - val_loss: 0.9166 - val_categorical_accuracy: 0.9280\n",
      "Epoch 116/150\n",
      "40/40 [==============================] - 1s 30ms/step - loss: 0.0064 - categorical_accuracy: 0.9979 - val_loss: 1.1145 - val_categorical_accuracy: 0.9269\n",
      "Epoch 117/150\n",
      "40/40 [==============================] - 1s 30ms/step - loss: 0.0353 - categorical_accuracy: 0.9910 - val_loss: 0.7977 - val_categorical_accuracy: 0.9343\n",
      "Epoch 118/150\n",
      "40/40 [==============================] - 1s 31ms/step - loss: 0.0066 - categorical_accuracy: 0.9979 - val_loss: 0.9140 - val_categorical_accuracy: 0.9290\n",
      "Epoch 119/150\n",
      "40/40 [==============================] - 1s 31ms/step - loss: 0.0141 - categorical_accuracy: 0.9950 - val_loss: 0.8276 - val_categorical_accuracy: 0.9364\n",
      "Epoch 120/150\n",
      "40/40 [==============================] - 1s 30ms/step - loss: 0.0197 - categorical_accuracy: 0.9947 - val_loss: 0.8564 - val_categorical_accuracy: 0.9333\n",
      "Epoch 121/150\n",
      "40/40 [==============================] - 1s 30ms/step - loss: 0.0164 - categorical_accuracy: 0.9952 - val_loss: 0.9544 - val_categorical_accuracy: 0.9184\n",
      "Epoch 122/150\n",
      "40/40 [==============================] - 1s 30ms/step - loss: 0.0104 - categorical_accuracy: 0.9971 - val_loss: 1.1661 - val_categorical_accuracy: 0.9258\n",
      "Epoch 123/150\n",
      "40/40 [==============================] - 1s 30ms/step - loss: 0.0084 - categorical_accuracy: 0.9974 - val_loss: 1.2549 - val_categorical_accuracy: 0.9110\n",
      "Epoch 124/150\n",
      "40/40 [==============================] - 1s 30ms/step - loss: 0.0423 - categorical_accuracy: 0.9905 - val_loss: 0.8757 - val_categorical_accuracy: 0.9311\n",
      "Epoch 125/150\n",
      "40/40 [==============================] - 1s 30ms/step - loss: 0.0131 - categorical_accuracy: 0.9974 - val_loss: 0.9681 - val_categorical_accuracy: 0.9333\n",
      "Epoch 126/150\n",
      "40/40 [==============================] - 1s 30ms/step - loss: 0.0457 - categorical_accuracy: 0.9923 - val_loss: 0.8195 - val_categorical_accuracy: 0.9407\n",
      "Epoch 127/150\n",
      "40/40 [==============================] - 1s 31ms/step - loss: 0.0143 - categorical_accuracy: 0.9958 - val_loss: 0.7859 - val_categorical_accuracy: 0.9301\n",
      "Epoch 128/150\n",
      "40/40 [==============================] - 1s 31ms/step - loss: 0.0136 - categorical_accuracy: 0.9963 - val_loss: 0.6706 - val_categorical_accuracy: 0.9333\n",
      "Epoch 129/150\n",
      "40/40 [==============================] - 1s 30ms/step - loss: 0.0141 - categorical_accuracy: 0.9952 - val_loss: 1.8083 - val_categorical_accuracy: 0.8983\n",
      "Epoch 130/150\n",
      "40/40 [==============================] - 1s 30ms/step - loss: 0.0230 - categorical_accuracy: 0.9952 - val_loss: 0.8647 - val_categorical_accuracy: 0.9354\n",
      "Epoch 131/150\n",
      "40/40 [==============================] - 1s 32ms/step - loss: 0.0195 - categorical_accuracy: 0.9950 - val_loss: 0.5774 - val_categorical_accuracy: 0.9407\n",
      "Epoch 132/150\n",
      "40/40 [==============================] - 1s 30ms/step - loss: 0.0084 - categorical_accuracy: 0.9976 - val_loss: 0.7542 - val_categorical_accuracy: 0.9481\n",
      "Epoch 133/150\n",
      "40/40 [==============================] - 1s 30ms/step - loss: 0.0155 - categorical_accuracy: 0.9950 - val_loss: 0.7665 - val_categorical_accuracy: 0.9375\n",
      "Epoch 134/150\n",
      "40/40 [==============================] - 1s 30ms/step - loss: 0.0216 - categorical_accuracy: 0.9928 - val_loss: 0.5569 - val_categorical_accuracy: 0.9417\n",
      "Epoch 135/150\n",
      "40/40 [==============================] - 1s 31ms/step - loss: 0.0074 - categorical_accuracy: 0.9979 - val_loss: 0.8143 - val_categorical_accuracy: 0.9354\n",
      "Epoch 136/150\n",
      "40/40 [==============================] - 1s 32ms/step - loss: 0.0185 - categorical_accuracy: 0.9947 - val_loss: 0.7109 - val_categorical_accuracy: 0.9343\n",
      "Epoch 137/150\n",
      "40/40 [==============================] - 1s 30ms/step - loss: 0.0102 - categorical_accuracy: 0.9960 - val_loss: 0.8251 - val_categorical_accuracy: 0.9343\n",
      "Epoch 138/150\n",
      "40/40 [==============================] - 1s 30ms/step - loss: 0.0115 - categorical_accuracy: 0.9955 - val_loss: 0.8592 - val_categorical_accuracy: 0.9301\n",
      "Epoch 139/150\n",
      "40/40 [==============================] - 1s 30ms/step - loss: 0.0159 - categorical_accuracy: 0.9960 - val_loss: 0.7405 - val_categorical_accuracy: 0.9163\n",
      "Epoch 140/150\n",
      "40/40 [==============================] - 1s 30ms/step - loss: 0.0140 - categorical_accuracy: 0.9955 - val_loss: 0.7115 - val_categorical_accuracy: 0.9407\n",
      "Epoch 141/150\n",
      "40/40 [==============================] - 1s 30ms/step - loss: 0.0093 - categorical_accuracy: 0.9971 - val_loss: 0.7386 - val_categorical_accuracy: 0.9301\n",
      "Epoch 142/150\n",
      "40/40 [==============================] - 1s 30ms/step - loss: 0.0223 - categorical_accuracy: 0.9966 - val_loss: 0.7603 - val_categorical_accuracy: 0.9343\n",
      "Epoch 143/150\n",
      "40/40 [==============================] - 1s 30ms/step - loss: 0.0174 - categorical_accuracy: 0.9955 - val_loss: 0.4630 - val_categorical_accuracy: 0.9364\n",
      "Epoch 144/150\n",
      "40/40 [==============================] - 1s 30ms/step - loss: 0.0235 - categorical_accuracy: 0.9942 - val_loss: 0.5951 - val_categorical_accuracy: 0.9439\n",
      "Epoch 145/150\n",
      "40/40 [==============================] - 1s 31ms/step - loss: 0.0171 - categorical_accuracy: 0.9939 - val_loss: 1.0507 - val_categorical_accuracy: 0.9375\n",
      "Epoch 146/150\n",
      "40/40 [==============================] - 1s 31ms/step - loss: 0.0187 - categorical_accuracy: 0.9950 - val_loss: 0.8106 - val_categorical_accuracy: 0.9428\n",
      "Epoch 147/150\n",
      "40/40 [==============================] - 1s 31ms/step - loss: 0.0078 - categorical_accuracy: 0.9979 - val_loss: 0.4768 - val_categorical_accuracy: 0.9449\n"
     ]
    },
    {
     "name": "stdout",
     "output_type": "stream",
     "text": [
      "Epoch 148/150\n",
      "40/40 [==============================] - 1s 31ms/step - loss: 0.0279 - categorical_accuracy: 0.9942 - val_loss: 0.7913 - val_categorical_accuracy: 0.9502\n",
      "Epoch 149/150\n",
      "40/40 [==============================] - 1s 30ms/step - loss: 0.0119 - categorical_accuracy: 0.9952 - val_loss: 0.6538 - val_categorical_accuracy: 0.9576\n",
      "Epoch 150/150\n",
      "40/40 [==============================] - 1s 31ms/step - loss: 0.0261 - categorical_accuracy: 0.9931 - val_loss: 0.6432 - val_categorical_accuracy: 0.9576\n"
     ]
    }
   ],
   "source": [
    "history = model_info.fit(X_train, y_train, validation_split=0.2, epochs = epochs, shuffle = True, batch_size = batch_size)\n",
    "\n",
    "model_info.save_weights('MSE_model.h5')"
   ]
  },
  {
   "cell_type": "markdown",
   "metadata": {},
   "source": [
    "## 3. Visualization of accuracy and loss for each epochs for training and validation sets"
   ]
  },
  {
   "cell_type": "code",
   "execution_count": 20,
   "metadata": {},
   "outputs": [],
   "source": [
    "def plot_accuracy_curve(history) :\n",
    "    '''\n",
    "    Plot the accuracy curve : evolution of model accuracy when performing \n",
    "    on the train dataset and test dataset. \n",
    "    Save the file into png file. \n",
    "    '''\n",
    "    plt.plot(history.history['categorical_accuracy'])\n",
    "    plt.plot(history.history['val_categorical_accuracy'])\n",
    "    plt.title('model accuracy')\n",
    "    plt.ylabel('accuracy')\n",
    "    plt.xlabel('epoch')\n",
    "    plt.legend(['train', 'test'], loc='upper left')\n",
    "    plt.savefig('./accuracy_curve.png')"
   ]
  },
  {
   "cell_type": "code",
   "execution_count": 21,
   "metadata": {},
   "outputs": [
    {
     "data": {
      "image/png": "[encoded data removed]",
      "text/plain": [
       "<Figure size 432x288 with 1 Axes>"
      ]
     },
     "metadata": {
      "needs_background": "light"
     },
     "output_type": "display_data"
    }
   ],
   "source": [
    "plot_accuracy_curve(history)"
   ]
  },
  {
   "cell_type": "code",
   "execution_count": 22,
   "metadata": {},
   "outputs": [],
   "source": [
    "def plot_loss_curve(history): \n",
    "    '''\n",
    "    Plot the loss curve : evolution of model loss when performing \n",
    "    on the train dataset and test dataset. \n",
    "    Save the file into png file. \n",
    "    '''\n",
    "    plt.plot(history.history['loss'])\n",
    "    plt.plot(history.history['val_loss'])\n",
    "    plt.title('model loss')\n",
    "    plt.ylabel('loss')\n",
    "    plt.xlabel('epoch')\n",
    "    plt.legend(['train', 'test'], loc='upper left')\n",
    "    plt.savefig('./loss_curve.png')"
   ]
  },
  {
   "cell_type": "code",
   "execution_count": 23,
   "metadata": {},
   "outputs": [
    {
     "data": {
      "image/png": "[encoded data removed]",
      "text/plain": [
       "<Figure size 432x288 with 1 Axes>"
      ]
     },
     "metadata": {
      "needs_background": "light"
     },
     "output_type": "display_data"
    }
   ],
   "source": [
    "plot_loss_curve(history)"
   ]
  },
  {
   "cell_type": "markdown",
   "metadata": {},
   "source": [
    "## 4. Visualization of predictions for test set (confusion matrix) and statistical analysis"
   ]
  },
  {
   "cell_type": "markdown",
   "metadata": {},
   "source": [
    "To confirm all the parameters of the neural network it's necessary to run it on test set (reminder : this set has not been read for training purposes)\n",
    "So the test set is run with calculated weights of neurons to predict classes, and it's possible to obtain the prediction rate by comparing  predicted and real categories\n",
    "To visualize predictions and real values on test set, a confusion matrix was computed and plotted thanks to the 'plot_confusion_matrix' function"
   ]
  },
  {
   "cell_type": "code",
   "execution_count": 24,
   "metadata": {},
   "outputs": [
    {
     "name": "stdout",
     "output_type": "stream",
     "text": [
      "Predicting on test data\n",
      "Accuracy score : 0.9495798319327731\n"
     ]
    }
   ],
   "source": [
    "print('Predicting on test data')\n",
    "y_pred = np.rint(model_info.predict(X_test))\n",
    "print(\"Accuracy score :\", accuracy_score(y_test,y_pred))"
   ]
  },
  {
   "cell_type": "code",
   "execution_count": 25,
   "metadata": {},
   "outputs": [],
   "source": [
    "classes = ['EOSINOPHIL', 'LYMPHOCYTE', 'MONOCYTE', 'NEUTROPHIL'] ##alphabetical order of label\n",
    "def plot_confusion_matrix(model_name):\n",
    "    # Predict the values from the validation dataset\n",
    "    Y_pred = np.rint(model_name.predict(X_test))\n",
    "\n",
    "    # Because Y_pred is an array of probabilities, we have to convert it to one hot vectors \n",
    "    Y_pred_classes = np.argmax(Y_pred, axis=1)\n",
    "    # Convert validation observations to one hot vectors\n",
    "    Y_true = np.argmax(y_test, axis=1)\n",
    "    # compute the confusion matrix\n",
    "    confusion_mtx = confusion_matrix(Y_true, Y_pred_classes)\n",
    "    confusion_mtx = pd.DataFrame(\n",
    "        confusion_mtx,columns=classes, index=classes\n",
    "    )\n",
    "    # plot the confusion matrix\n",
    "    plt.figure(figsize=[8, 8])\n",
    "    sns.heatmap(confusion_mtx, cmap=\"Blues\", annot=True, fmt='.0f')\n",
    "    plt.ylabel('True label')\n",
    "    plt.xlabel('Predicted label')\n",
    "    plt.savefig(\"all_cm.png\")\n",
    "    plt.show()\n",
    "    \n",
    "    return confusion_mtx"
   ]
  },
  {
   "cell_type": "code",
   "execution_count": 26,
   "metadata": {},
   "outputs": [
    {
     "data": {
      "image/png": "[encoded data removed]",
      "text/plain": [
       "<Figure size 576x576 with 2 Axes>"
      ]
     },
     "metadata": {
      "needs_background": "light"
     },
     "output_type": "display_data"
    }
   ],
   "source": [
    "cm = plot_confusion_matrix(model_info)"
   ]
  },
  {
   "cell_type": "code",
   "execution_count": 27,
   "metadata": {},
   "outputs": [],
   "source": [
    "def precision_score(cm):\n",
    "    '''\n",
    "    Function to calculate the precision score of our model.\n",
    "    '''\n",
    "    cm = cm.to_numpy()\n",
    "    correct_preds = 0\n",
    "    total_preds = 0\n",
    "    for i in range(len(cm)):\n",
    "        total_preds += sum(cm[i])\n",
    "        correct_preds += cm[i][i]\n",
    "    return round(correct_preds / total_preds * 100, 2)"
   ]
  },
  {
   "cell_type": "code",
   "execution_count": 28,
   "metadata": {},
   "outputs": [
    {
     "name": "stdout",
     "output_type": "stream",
     "text": [
      "The precision rate of this classification is : 94.96\n"
     ]
    }
   ],
   "source": [
    "print(f\"The precision rate of this classification is : {precision_score(cm)}\")"
   ]
  },
  {
   "cell_type": "code",
   "execution_count": 29,
   "metadata": {},
   "outputs": [],
   "source": [
    "def confusion_tables(cm, classes):\n",
    "    '''\n",
    "    Function to make for each class predicted by the model, the corresponding confusion table. \n",
    "    Returns a list of the confusion tables. \n",
    "    '''\n",
    "    conf_tables = []\n",
    "    cm = cm.to_numpy()\n",
    "    for i in range(len(classes)):\n",
    "        conf_table = [[0,0],[0,0]]\n",
    "        conf_table[0][0] = cm[i][i]\n",
    "        conf_table[1][0] = sum(cm[i]) - conf_table[0][0]\n",
    "        conf_table[0][1] = sum([cm[j][i] for j in range(0, len(classes))]) - cm[i][i]\n",
    "        conf_table[1][1] = sum([sum(cm[j]) for j in range(0, len(classes))]) - sum(cm[i]) - conf_table[0][1]\n",
    "        conf_tables.append(conf_table)\n",
    "    return conf_tables"
   ]
  },
  {
   "cell_type": "code",
   "execution_count": 30,
   "metadata": {},
   "outputs": [
    {
     "name": "stdout",
     "output_type": "stream",
     "text": [
      "Confusion table for class EOSINOPHIL\n",
      "\t\t\t\tClass\tOthers\tTotal\n",
      "Predicted in class\t\t192\t9\t201\n",
      "Predicted in other class\t19\t613\t622\n",
      "Total\t\t\t\t211\t622\t833\n",
      "\n",
      "Confusion table for class LYMPHOCYTE\n",
      "\t\t\t\tClass\tOthers\tTotal\n",
      "Predicted in class\t\t73\t4\t77\n",
      "Predicted in other class\t6\t750\t754\n",
      "Total\t\t\t\t79\t754\t833\n",
      "\n",
      "Confusion table for class MONOCYTE\n",
      "\t\t\t\tClass\tOthers\tTotal\n",
      "Predicted in class\t\t38\t0\t38\n",
      "Predicted in other class\t10\t785\t785\n",
      "Total\t\t\t\t48\t785\t833\n",
      "\n",
      "Confusion table for class NEUTROPHIL\n",
      "\t\t\t\tClass\tOthers\tTotal\n",
      "Predicted in class\t\t488\t29\t517\n",
      "Predicted in other class\t7\t309\t338\n",
      "Total\t\t\t\t495\t338\t833\n",
      "\n"
     ]
    }
   ],
   "source": [
    "for i in range(len(classes)):\n",
    "    print(f\"Confusion table for class {classes[i]}\")\n",
    "    print(\"\\t\\t\\t\\tClass\\tOthers\\tTotal\")\n",
    "    print(f\"Predicted in class\\t\\t{confusion_tables(cm, classes)[i][0][0]}\\t{confusion_tables(cm, classes)[i][0][1]}\\t{confusion_tables(cm, classes)[i][0][1] + confusion_tables(cm, classes)[i][0][0]}\")\n",
    "    print(f\"Predicted in other class\\t{confusion_tables(cm, classes)[i][1][0]}\\t{confusion_tables(cm, classes)[i][1][1]}\\t{confusion_tables(cm, classes)[i][1][1] + confusion_tables(cm, classes)[i][0][1]}\")\n",
    "    print(f\"Total\\t\\t\\t\\t{confusion_tables(cm, classes)[i][0][0] + confusion_tables(cm, classes)[i][1][0]}\\t{confusion_tables(cm, classes)[i][0][1] + confusion_tables(cm, classes)[i][1][1]}\\t{confusion_tables(cm, classes)[i][0][0] + confusion_tables(cm, classes)[i][0][1] + confusion_tables(cm, classes)[i][1][0] + confusion_tables(cm, classes)[i][1][1]}\\n\")"
   ]
  },
  {
   "cell_type": "markdown",
   "metadata": {},
   "source": [
    "After recuperation of all results, sensitivity and specificity of the model was calculated to obtain some statistical values to analyse precision of the model."
   ]
  },
  {
   "cell_type": "code",
   "execution_count": 31,
   "metadata": {},
   "outputs": [],
   "source": [
    "def sensitivity(confusion_table):\n",
    "    '''\n",
    "    Calculates the sensitivity of a model for the class corresponding to the confusion table in parameter.\n",
    "    '''\n",
    "    return round(confusion_table[0][0] / (confusion_table[0][0] + confusion_table[1][0]), 2)"
   ]
  },
  {
   "cell_type": "code",
   "execution_count": 32,
   "metadata": {},
   "outputs": [],
   "source": [
    "def specificity(confusion_table):\n",
    "    '''\n",
    "    Calculates the specificity of a model for the class corresponding to the confusion table in parameter.\n",
    "    '''\n",
    "    return round(confusion_table[1][1] / (confusion_table[1][1] + confusion_table[0][1]), 2)"
   ]
  },
  {
   "cell_type": "code",
   "execution_count": 33,
   "metadata": {},
   "outputs": [
    {
     "name": "stdout",
     "output_type": "stream",
     "text": [
      "Sensitivity of the test prediction for EOSINOPHIL : 0.91\n",
      "Specificity of the test prediction for EOSINOPHIL : 0.99\n",
      "\n",
      "Sensitivity of the test prediction for LYMPHOCYTE : 0.92\n",
      "Specificity of the test prediction for LYMPHOCYTE : 0.99\n",
      "\n",
      "Sensitivity of the test prediction for MONOCYTE : 0.79\n",
      "Specificity of the test prediction for MONOCYTE : 1.0\n",
      "\n",
      "Sensitivity of the test prediction for NEUTROPHIL : 0.99\n",
      "Specificity of the test prediction for NEUTROPHIL : 0.91\n",
      "\n"
     ]
    }
   ],
   "source": [
    "for i in range(len(classes)):\n",
    "    print(f\"Sensitivity of the test prediction for {classes[i]} : {sensitivity(confusion_tables(cm, classes)[i])}\")\n",
    "    print(f\"Specificity of the test prediction for {classes[i]} : {specificity(confusion_tables(cm, classes)[i])}\\n\")"
   ]
  },
  {
   "cell_type": "markdown",
   "metadata": {},
   "source": [
    "\n",
    "## 5. Analysis of the confusion matrix, confusion tables and sensitivity/specificity values\n",
    " \n",
    "After many calculs, we can see that our CNN has a prediction rate of approximately **95%** an average for all classes. \n",
    "\n",
    "But when we look at the classes separately, we can see that the test performs differently depending on the classes to predict. To visualize this, we calculated the sensitivity and the specificity of the test for each class. \n",
    "\n",
    "The **sensitivity** measures the proportion of positives that are correctly identified. It corresponds to the probability for an individual to be predicted in the class in which he should be. \n",
    " \n",
    "The **specificity** measures the proportion of negatives that are correctly identified. It corresponds to the probability for an individual not to be predicted in a class in which he should not be. \n",
    " \n",
    "Here we can see that for most of the classes, the specificity is quite good but not the sensitivity. It means that our test performs well when it says that an image does not belong to each or each class but does not performs well when it has to identify to which class corresponds to the cell in the image. \n",
    " \n",
    "However, the sensitivity is high for the Monocytes, it means that the test performs good at identifying a Monocyte when the image represents indeed a Monocyte. But for the Monocytes, the specificity is not really high compared to the others classes. \n",
    " \n",
    "We can say that our CNN is good at identifying Monocytes but identifies too many cells as a Monocyte while they are not Monocytes. It could be interesting to see how our algorithm behaves if we remove the Monocyte from the dataset. \n"
   ]
  },
  {
   "cell_type": "markdown",
   "metadata": {},
   "source": [
    "## 6. Use of model and weights on new pictures "
   ]
  },
  {
   "cell_type": "code",
   "execution_count": 34,
   "metadata": {},
   "outputs": [],
   "source": [
    "\n",
    "\"\"\"\n",
    "The function \"load_image\" is used to transform other pictures (different of original dataset) as array to test our CNN on these pictures\n",
    "\n",
    "Prediction is returned with array :\n",
    "    - [1., 0., 0., 0.] for Eosinophil\n",
    "    - [0., 1., 0., 0.] for Lymphocyte\n",
    "    - [0., 0., 1., 0.] for Monocyte\n",
    "    - [0., 0., 0., 1.] for Neutrophil\n",
    "    \n",
    "\"\"\"\n",
    "def load_images(img_filename_list):\n",
    "    X = []\n",
    "    for img_filename in img_filename_list:\n",
    "        img_file = cv2.imread(str(img_filename))\n",
    "        if img_file is not None :           \n",
    "            #img_file = cv2.cvtColor(img_file,cv2.COLOR_BGR2RGB)\n",
    "            #img_file = cv2.cvtColor(img_file,cv2.COLOR_BGR2HSV)\n",
    "            img_file = np.array(Image.fromarray(img_file).resize((160,120)))\n",
    "\n",
    "            X.append(img_file)\n",
    "            \n",
    "    X = np.asarray(X)\n",
    "    return X\n",
    "\n",
    "other_img_filenames = [ \"../input/final-test-datas/eosinophil.jpg\", \"../input/final-test-datas/lymphocyte.jpg\", \"../input/final-test-datas/monocyte.jpg\", \"../input/final-test-datas/neutrophil.jpg\"]\n",
    "X_other_img = load_images(other_img_filenames)\n",
    "y_other_pred = np.rint(model_info.predict(X_other_img))"
   ]
  },
  {
   "cell_type": "code",
   "execution_count": 35,
   "metadata": {},
   "outputs": [],
   "source": [
    "def to_classe(pred):\n",
    "    if pred == [0., 1., 0., 0.]:\n",
    "        return 1\n",
    "    elif pred == [1., 0., 0., 0.]:\n",
    "        return 0\n",
    "    elif pred == [0., 0., 1., 0.]:\n",
    "        return 2\n",
    "    else:\n",
    "        return 3"
   ]
  },
  {
   "cell_type": "code",
   "execution_count": 36,
   "metadata": {},
   "outputs": [
    {
     "name": "stdout",
     "output_type": "stream",
     "text": [
      "Image n°1 predicted as : NEUTROPHIL\n",
      "Image n°2 predicted as : LYMPHOCYTE\n",
      "Image n°3 predicted as : NEUTROPHIL\n",
      "Image n°4 predicted as : NEUTROPHIL\n"
     ]
    }
   ],
   "source": [
    "for i in range(len(y_other_pred)):\n",
    "    if int(to_classe(list(y_other_pred[i]))) < len(classes):\n",
    "        print(f\"Image n°{i+1} predicted as : {classes[int(to_classe(list(y_other_pred[i])))]}\")\n",
    "    else:\n",
    "        print(f\"Image n°{i+1} not predicted.\")"
   ]
  },
  {
   "cell_type": "markdown",
   "metadata": {},
   "source": [
    "## 7. Conclusion & discussion\n",
    "\n",
    "The main **goal** of this project was to develop an **automatic recognition** of **white blood cell** pictures : monocytes, eosinophils, lymphocytes and neutrophils, to solve this problem a convolution neural network was used.\n",
    "\n",
    "This technology allows to detect some pattern, invisible to the human eye, thanks to **layers of convolution** and utilization of **filters** : modifie the original picture,by adding more contrast or more pixelisation for example, to highlight specific pattern for each picture ; and the **\"pooling\"** : to group some pixels together, it depends of the size of \"kernel\". The most important part of work was based on the research of the model of the neural network and its parameters. \n",
    "\n",
    "Many research and git deposit were done : we tried several models with different adjustment. After many change of parameters (batch size, number of epoch, dropout,...), the following results were found with an **average test accuracy of 95%**. Some statistical calculus were made to analyse the confusion matrix that compares all predicted labels with real labels.\n",
    "\n",
    "At the end of the project, we tried to predict the label of new pictures (found on internet and completly different from our original dataset) with same model and weights. Results aren't correct for all pictures and some difficulties have been encountered. This problem was certainly due to the learning on \"real picture\" and \"augmentated pictures\": maybe some patterns are visible only on \"augmentated picture\" and not recognized in \"real pictures\". Overall results on training, validation and test sets are quite satisfaying, more work is necessary to predict good labels on other pictures. \n",
    "\n",
    "We are conscious that our model and parameters can be improve with more time and a bigger and more various dataset. In fact, different classes are not fairly represented, there are more neutrophiles and eosinophils than lymphocytes and monocytes. It was not possible at the beginning to equilibrate all classes because we would have lost too many pictures.\n",
    "\n",
    "\n",
    "### Propositions in order to improve the model\n",
    "\n",
    "Our model suffers from **overfitting**, which means that we can predict blood cells type with high accuracy on our training dataset, but our model fails to predict with the same accuracy on the test datasets. This is probably because we worked with an unbalanced dataset with much more neutrophils than other cells. Although this is the representative biological distribution in human body, it induces a bias in our model. A solution for this problem could be to normalize the classes in order to have the same number of individuals in each class. We could use a **SMOTE / SMNRT** augmentation on the dataset, which is a method to create synthetic images based on their pixel values, and re-train our model with the synthetic images.\n",
    "\n",
    "Due to the importance of image classification, many Deep-learning classification models exists, and we could also try to implement pre-trained models on our dataset. In the notebook associated with the dataset, they used the LeNet model, but they only chose to differenciate polynuclear cells (Eosinophil/Neutrophil) from mononuclear cells (Monocytes/Lymphocyte) whereas in our notebook, we tried to differentiate each classes. They also tried to use a VGGNet model, but they failed to obtain good results because they used a model trained on general images (e.g cats, dogs...) and not specially on cells pictures. Another solution would be to thoroughly search pretrained models (AlexNet, GoogleNet, Xception...) and look for models that learned on blood cells images."
   ]
  }
 ],
 "metadata": {
  "author": {
   "name": "Tiphaine CASY, Elodie GERMANI, Kévin CHATEAU"
  },
  "kernelspec": {
   "display_name": "Python 3",
   "language": "python",
   "name": "python3"
  },
  "language_info": {
   "codemirror_mode": {
    "name": "ipython",
    "version": 3
   },
   "file_extension": ".py",
   "mimetype": "text/x-python",
   "name": "python",
   "nbconvert_exporter": "python",
   "pygments_lexer": "ipython3",
   "version": "3.9.0"
  }
 },
 "nbformat": 4,
 "nbformat_minor": 4
}
