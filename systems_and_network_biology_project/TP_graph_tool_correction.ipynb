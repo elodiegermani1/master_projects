{
 "cells": [
  {
   "cell_type": "markdown",
   "metadata": {
    "slideshow": {
     "slide_type": "slide"
    }
   },
   "source": [
    "Ce TP présente le package python **graph-tool** qui permet de charger ou créer des graphes ainsi que de réaliser des mesures sur celui-ci. \n",
    "\n",
    "La plupart des commandes sont disponibles dans la cheat sheet fournie avec ce TP. Si vous souhaitez utiliser d'autres commandes disponibles, vous pouvez utiliser la documentation de graph-tool. \n",
    "\n",
    "# Partie A : Créer un graphe et le visualiser \n",
    "\n",
    "**1/ Importer graph_tool à l'aide de la commande `from graph_tool.all import *`** \n",
    "\n",
    "On aura aussi besoin du package random. "
   ]
  },
  {
   "cell_type": "code",
   "execution_count": 1,
   "metadata": {
    "slideshow": {
     "slide_type": "fragment"
    }
   },
   "outputs": [],
   "source": [
    "from graph_tool.all import *\n",
    "import random"
   ]
  },
  {
   "cell_type": "markdown",
   "metadata": {
    "slideshow": {
     "slide_type": "fragment"
    }
   },
   "source": [
    "**2/ Créer un graphe non orienté que l'on va appeler g**"
   ]
  },
  {
   "cell_type": "code",
   "execution_count": 2,
   "metadata": {
    "slideshow": {
     "slide_type": "fragment"
    }
   },
   "outputs": [],
   "source": [
    "g = Graph(directed = False)"
   ]
  },
  {
   "cell_type": "markdown",
   "metadata": {
    "slideshow": {
     "slide_type": "slide"
    }
   },
   "source": [
    "Le graphe g est défini par le **dictionnaire d'interaction** suivant :  \n",
    "{'A': ('B', 'E'), \n",
    "'B': ('A', 'C', 'D', 'E'), \n",
    "'C': ('D', 'E'), \n",
    "'D': ('B', 'C'), \n",
    "'E': ('A', 'B', 'C)}\n",
    "\n",
    "**3/ Ajoutez les sommets et les arêtes à ce graphe pour représenter le graphe défini par ce dictionnaire.**"
   ]
  },
  {
   "cell_type": "code",
   "execution_count": 3,
   "metadata": {
    "slideshow": {
     "slide_type": "fragment"
    }
   },
   "outputs": [],
   "source": [
    "#Création de sommets\n",
    "A = g.add_vertex()\n",
    "B = g.add_vertex()\n",
    "C = g.add_vertex()\n",
    "D = g.add_vertex()\n",
    "E = g.add_vertex()\n",
    "\n",
    "# Creation d'arêtes\n",
    "eAB = g.add_edge(A, B)\n",
    "eBC = g.add_edge(B, C)\n",
    "eCD = g.add_edge(C, D)\n",
    "eBD = g.add_edge(B, D)\n",
    "eBE = g.add_edge(B, E)\n",
    "eCE = g.add_edge(C, E)\n",
    "eAE = g.add_edge(A, E)"
   ]
  },
  {
   "cell_type": "markdown",
   "metadata": {
    "slideshow": {
     "slide_type": "slide"
    }
   },
   "source": [
    "Pour avoir une représentation visuelle de votre graphe, vous pouvez utiliser la commande :\n",
    "\n",
    "`graph_draw(g, vertex_text=g.vertex_index, output=\"le_nom_que_tu_veux.pdf\")`"
   ]
  },
  {
   "cell_type": "markdown",
   "metadata": {
    "slideshow": {
     "slide_type": "-"
    }
   },
   "source": [
    "![image](graph.png)"
   ]
  },
  {
   "cell_type": "markdown",
   "metadata": {
    "slideshow": {
     "slide_type": "slide"
    }
   },
   "source": [
    "# Partie B : Réaliser des mesures sur un graphe \n",
    "\n",
    "Le package graph-tool comporte plusieurs modules permettant de faire des calculs de valeurs sur les graphes, par exemple : \n",
    "\n",
    "- `graph-tool.util` pour accéder aux objets de nos graphes \n",
    "- `graph-tool.topology` pour accéder à des mesures topologiques sur nos graphes \n",
    "- `graph-tool.centrality` pour les mesures de centralité \n",
    "- `graph-tool.clustering` pour les mesures de clustering\n",
    "\n",
    "Ici, nous allons utiliser uniquement ces modules même si d'autres existent. "
   ]
  },
  {
   "cell_type": "markdown",
   "metadata": {
    "slideshow": {
     "slide_type": "slide"
    }
   },
   "source": [
    "**1/ Trouver la liste des sommets et arêtes de ce graphe**"
   ]
  },
  {
   "cell_type": "code",
   "execution_count": 4,
   "metadata": {
    "slideshow": {
     "slide_type": "fragment"
    }
   },
   "outputs": [
    {
     "data": {
      "text/plain": [
       "array([0, 1, 2, 3, 4])"
      ]
     },
     "execution_count": 4,
     "metadata": {},
     "output_type": "execute_result"
    }
   ],
   "source": [
    "g.get_vertices()"
   ]
  },
  {
   "cell_type": "code",
   "execution_count": 5,
   "metadata": {
    "slideshow": {
     "slide_type": "-"
    }
   },
   "outputs": [
    {
     "data": {
      "text/plain": [
       "array([[0, 1],\n",
       "       [0, 4],\n",
       "       [1, 2],\n",
       "       [1, 3],\n",
       "       [1, 4],\n",
       "       [2, 3],\n",
       "       [2, 4]])"
      ]
     },
     "execution_count": 5,
     "metadata": {},
     "output_type": "execute_result"
    }
   ],
   "source": [
    "g.get_edges()"
   ]
  },
  {
   "cell_type": "markdown",
   "metadata": {
    "slideshow": {
     "slide_type": "slide"
    }
   },
   "source": [
    "**2/ Trouver le nombre de voisins (donc le degré) de chaque sommet**"
   ]
  },
  {
   "cell_type": "code",
   "execution_count": 6,
   "metadata": {
    "slideshow": {
     "slide_type": "fragment"
    }
   },
   "outputs": [
    {
     "data": {
      "text/plain": [
       "array([4], dtype=uint64)"
      ]
     },
     "execution_count": 6,
     "metadata": {},
     "output_type": "execute_result"
    }
   ],
   "source": [
    "g.get_total_degrees([1])"
   ]
  },
  {
   "cell_type": "markdown",
   "metadata": {
    "slideshow": {
     "slide_type": "fragment"
    }
   },
   "source": [
    "Nous nous intéressons maintenant à des mesures plus globales du graphe. \n",
    "\n",
    "Utilisez pour ça les fonctions `pseudo_diameter()`, `shortest_distance()`, `count_shortest_paths()` ou `all_shortest_paths()`.\n",
    "\n",
    "**Attention** : `all_shortest_paths()` renvoie un itérateur\n",
    "\n",
    "**3/ Indiquez le diamètre du graphe** "
   ]
  },
  {
   "cell_type": "code",
   "execution_count": 7,
   "metadata": {
    "slideshow": {
     "slide_type": "fragment"
    }
   },
   "outputs": [
    {
     "data": {
      "text/plain": [
       "(2.0,\n",
       " (<Vertex object with index '0' at 0x7fe09304f8d0>,\n",
       "  <Vertex object with index '3' at 0x7fe09304f7b0>))"
      ]
     },
     "execution_count": 7,
     "metadata": {},
     "output_type": "execute_result"
    }
   ],
   "source": [
    "pseudo_diameter(g)"
   ]
  },
  {
   "cell_type": "markdown",
   "metadata": {
    "slideshow": {
     "slide_type": "fragment"
    }
   },
   "source": [
    "**3/ Indiquez la plus courte distance entre les sommets 0 et 2**"
   ]
  },
  {
   "cell_type": "code",
   "execution_count": 8,
   "metadata": {
    "slideshow": {
     "slide_type": "fragment"
    }
   },
   "outputs": [
    {
     "data": {
      "text/plain": [
       "2"
      ]
     },
     "execution_count": 8,
     "metadata": {},
     "output_type": "execute_result"
    }
   ],
   "source": [
    "shortest_distance(g, source=0, target=2)"
   ]
  },
  {
   "cell_type": "markdown",
   "metadata": {
    "slideshow": {
     "slide_type": "slide"
    }
   },
   "source": [
    "**4/ Indiquez le nombre et la liste des sommets du/des plus court(s) chemin(s) que vous trouverez entre les sommets 0 et 2**"
   ]
  },
  {
   "cell_type": "code",
   "execution_count": 9,
   "metadata": {
    "slideshow": {
     "slide_type": "fragment"
    }
   },
   "outputs": [
    {
     "data": {
      "text/plain": [
       "2"
      ]
     },
     "execution_count": 9,
     "metadata": {},
     "output_type": "execute_result"
    }
   ],
   "source": [
    "count_shortest_paths(g, source=0, target=2)"
   ]
  },
  {
   "cell_type": "code",
   "execution_count": 10,
   "metadata": {
    "slideshow": {
     "slide_type": "fragment"
    }
   },
   "outputs": [
    {
     "name": "stdout",
     "output_type": "stream",
     "text": [
      "[0 4 2]\n",
      "[0 1 2]\n"
     ]
    }
   ],
   "source": [
    "for path in all_shortest_paths(g, source=0, target=2):\n",
    "    print(path)"
   ]
  },
  {
   "cell_type": "markdown",
   "metadata": {
    "slideshow": {
     "slide_type": "slide"
    }
   },
   "source": [
    "Nous allons maintenant nous intéresser aux propiétés du graphe grâce à la fonction `g.list_properties()` et nous allons y ajouter deux nouvelles propriétés, la betweenness et la closeness.\n",
    "\n",
    "Pour ajouter une nouvelle propriété, il suffit d'utiliser la syntaxe suivante :\n",
    "\n",
    "```python\n",
    "g.vertex_properties[\"closeness\"] = g.new_vertex_property(\"double\")\n",
    "# permet d'ajouter une propriété que l'on va appeler \n",
    "# \"closeness\" qui sera une nouvelle propriété sur les sommets \n",
    "# dont le type de valeur sera \"double\"\n",
    "\n",
    "g.vertex_properties[\"closeness\"] = closeness(g)\n",
    "# closeness(g) renvoie un objet de type VertexPropertyMap \n",
    "# qui sera donc associée à la nouvelle propriété closeness de notre graphe.\n",
    "```\n",
    "\n",
    "\n",
    "\n",
    "Pour utiliser une propriété du graphe, pensez à y acceder en utilisant la syntaxe : `g.vp.nomdelapropriété[i]` ou `g.vertex_properties[\"nom_de_la_propriété\"][i]` avec i l'index du sommet pour lequel on veut la propriété.\n",
    "\n",
    "**ATTENTION** : `g.vp.nomdelapropriété[i]` ne fonctionne pas lorsque la propriété a un nom contenant un \"_\" \n",
    "\n",
    "**ATTENTION n°2** : pour la betweenness, il faudra aussi penser à modifier les propriétés des arêtes car betweenness(g) va renvoyer deux éléments : \n",
    "\n",
    "- `betweenness(g)[0]` correspond à la VertexPropertyMap \n",
    "- `betweenness(g)[1]` correspond à la EdgePropertyMap\n",
    "\n",
    "**5/ Ajouter au graphe les propriétés correspondant à la closeness et la betweenness. Donner les valeurs de ces propriétés pour les sommets 0 à 2.**"
   ]
  },
  {
   "cell_type": "code",
   "execution_count": 11,
   "metadata": {
    "slideshow": {
     "slide_type": "slide"
    }
   },
   "outputs": [],
   "source": [
    "g.vertex_properties[\"closeness\"] = g.new_vertex_property(\"double\") \n",
    "g.vertex_properties[\"closeness\"] = closeness(g)"
   ]
  },
  {
   "cell_type": "code",
   "execution_count": 12,
   "metadata": {
    "slideshow": {
     "slide_type": "-"
    }
   },
   "outputs": [],
   "source": [
    "g.vertex_properties[\"betweenness\"] = g.new_vertex_property(\"double\")\n",
    "g.edge_properties[\"betweenness\"] = g.new_edge_property(\"double\")\n",
    "g.vertex_properties[\"betweenness\"],g.edge_properties[\"betweenness\"]  = betweenness(g)"
   ]
  },
  {
   "cell_type": "code",
   "execution_count": 14,
   "metadata": {
    "slideshow": {
     "slide_type": "slide"
    }
   },
   "outputs": [
    {
     "name": "stdout",
     "output_type": "stream",
     "text": [
      "Sommet n°0\n",
      "Closeness : 0.6666666666666666\n",
      "Betweenness : 0.0\n",
      "Sommet n°1\n",
      "Closeness : 1.0\n",
      "Betweenness : 0.3333333333333333\n",
      "Sommet n°2\n",
      "Closeness : 0.8\n",
      "Betweenness : 0.08333333333333333\n"
     ]
    }
   ],
   "source": [
    "for i in range(0, 3):\n",
    "    print(f\"Sommet n°{i}\")\n",
    "    print(f\"Closeness : {g.vp.closeness[i]}\")\n",
    "    print(f\"Betweenness : {g.vp.betweenness[i]}\")"
   ]
  },
  {
   "cell_type": "markdown",
   "metadata": {
    "slideshow": {
     "slide_type": "slide"
    }
   },
   "source": [
    "**5bis/ Que peut-on déduire de ces valeurs ?** "
   ]
  },
  {
   "cell_type": "markdown",
   "metadata": {
    "slideshow": {
     "slide_type": "fragment"
    }
   },
   "source": [
    "**Sommet n°0** : \n",
    "\n",
    "- Betweenness de 0, il est donc rarement sur les chemins qui relie deux sommets du graphe. \n",
    "- Closeness de 0.6, il est tout de même proche des autres sommets, mais pas autant que les autres sommets, ce sont les sommets les plus excentrés du graphes. \n",
    "\n",
    "**Sommet n°1** : \n",
    "\n",
    "- Closeness de 1, il est trèèèèèèèèèèèèès proche des autres sommets du graphe. Il est relié par une arête à chacun d'entre eux. \n",
    "- Betweenness de 0.3, il est frequemment sur le chemin reliant 2 sommets. \n",
    "\n",
    "**Sommet n°2** : \n",
    "\n",
    "- Sommet intermédiaire au niveau des deux valeurs : assez proches des autres sommets et parfois sur leur chemin. "
   ]
  },
  {
   "cell_type": "markdown",
   "metadata": {
    "slideshow": {
     "slide_type": "slide"
    }
   },
   "source": [
    "**6/ On utilise la commande `graph_draw(g, vertex_fill_color=g.vp[\"closeness\"], output = \"colored_graph.pdf\")` pour dessiner le graphe. Quelle est la particularité de ce dessin ?**"
   ]
  },
  {
   "cell_type": "markdown",
   "metadata": {
    "slideshow": {
     "slide_type": "fragment"
    }
   },
   "source": [
    "Les sommets sont coloriés en fonction de la valeur de leur closeness. \n",
    "\n",
    "![image](colored_graph.png)"
   ]
  },
  {
   "cell_type": "markdown",
   "metadata": {
    "slideshow": {
     "slide_type": "slide"
    }
   },
   "source": [
    "# Partie C : Application sur un graphe biologique - A-t-on vraiment besoin d'ATP ? \n",
    "\n",
    "Le graphe **Reactome** est présent dans le dossier. Il est issu d'une base de donnée gratuite, open source de réactions biologiques (pathways). \n",
    "\n",
    "Nous allons maintenant le charger afin de reproduire les mesures effectuées sur le petit graphe, mais maintenant sur un graphe dirigé ayant un sens biologique. \n",
    "\n",
    "C'est un graphe dont les sommets sont de plusieurs types : \n",
    "'PhysicalEntity', 'ComplexAssembly', 'BiochemicalReaction', 'Protein', 'Complex', 'Dna', 'Catalysis', 'SmallMolecule', 'TemplateReaction', 'Control', 'Rna', 'TemplateReactionRegulation'.\n",
    "\n",
    "Ainsi, si un sommet est de type 'Protein' ou 'Complex', ses voisins directs permettront de caractériser l'interaction avec ses voisins n+2. \n",
    "\n",
    "**L'objectif ici est d'utiliser les différentes fonctions de graph-tool pour extraire des informations sur la topologie du graphe et ses caractéristiques.**\n",
    "\n",
    "**Une caractéristique des graphes biologiques sans échelle est qu'ils sont supposés robustes (tolérant aux pannes) mais fragiles (sensibles aux attaques ciblées).**\n",
    "\n",
    "\n",
    "**Nous allons donc vérifier cela !** \n",
    "\n",
    "**1/ Charger le graphe présent dans le dossier.**\n",
    "\n",
    "Ici le nom du fichier est : *PathwayCommons12.reactome.BIOPAX.graphml.gz*"
   ]
  },
  {
   "cell_type": "code",
   "execution_count": 16,
   "metadata": {
    "slideshow": {
     "slide_type": "slide"
    }
   },
   "outputs": [],
   "source": [
    "g2 = load_graph(\"PathwayCommons12.reactome.BIOPAX.graphml.gz\")"
   ]
  },
  {
   "cell_type": "markdown",
   "metadata": {
    "slideshow": {
     "slide_type": "slide"
    }
   },
   "source": [
    "**2/ Donner le nombre de sommets et d'arêtes présents dans le graphe** "
   ]
  },
  {
   "cell_type": "code",
   "execution_count": 17,
   "metadata": {
    "scrolled": true,
    "slideshow": {
     "slide_type": "fragment"
    }
   },
   "outputs": [
    {
     "name": "stdout",
     "output_type": "stream",
     "text": [
      "Il y a 37976 sommets dans le graphe.\n",
      "Il y a 67118 arêtes dans le graphe.\n"
     ]
    }
   ],
   "source": [
    "print(f\"Il y a {g2.num_vertices()} sommets dans le graphe.\")\n",
    "print(f\"Il y a {g2.num_edges()} arêtes dans le graphe.\")"
   ]
  },
  {
   "cell_type": "markdown",
   "metadata": {
    "slideshow": {
     "slide_type": "fragment"
    }
   },
   "source": [
    "**3/ Lister les propriétés du graphe**"
   ]
  },
  {
   "cell_type": "code",
   "execution_count": 18,
   "metadata": {
    "slideshow": {
     "slide_type": "fragment"
    }
   },
   "outputs": [
    {
     "name": "stdout",
     "output_type": "stream",
     "text": [
      "_graphml_vertex_id     (vertex)  (type: string)\n",
      "alias                  (vertex)  (type: string)\n",
      "biopaxType             (vertex)  (type: string)\n",
      "chebi                  (vertex)  (type: string)\n",
      "color                  (vertex)  (type: string)\n",
      "evidence               (vertex)  (type: string)\n",
      "generic                (vertex)  (type: string)\n",
      "hgnc                   (vertex)  (type: string)\n",
      "input                  (vertex)  (type: int64_t)\n",
      "name                   (vertex)  (type: string)\n",
      "organism               (vertex)  (type: string)\n",
      "provider               (vertex)  (type: string)\n",
      "shape                  (vertex)  (type: string)\n",
      "spaimCase              (vertex)  (type: string)\n",
      "uniprot                (vertex)  (type: string)\n",
      "uri                    (vertex)  (type: string)\n",
      "_graphml_edge_id       (edge)    (type: string)\n",
      "interaction            (edge)    (type: string)\n",
      "spaim                  (edge)    (type: string)\n"
     ]
    }
   ],
   "source": [
    "g2.list_properties()"
   ]
  },
  {
   "cell_type": "markdown",
   "metadata": {
    "slideshow": {
     "slide_type": "slide"
    }
   },
   "source": [
    "**4/ On réalise cette commande. Que fait-elle ?**"
   ]
  },
  {
   "cell_type": "code",
   "execution_count": 19,
   "metadata": {
    "slideshow": {
     "slide_type": "fragment"
    }
   },
   "outputs": [
    {
     "data": {
      "text/plain": [
       "18835"
      ]
     },
     "execution_count": 19,
     "metadata": {},
     "output_type": "execute_result"
    }
   ],
   "source": [
    "len(find_vertex(g2, g2.vp.organism, \"Homo sapiens\"))"
   ]
  },
  {
   "cell_type": "markdown",
   "metadata": {
    "slideshow": {
     "slide_type": "fragment"
    }
   },
   "source": [
    "Elle permet de donner le nombre de sommets qui ont comme propriété organisme \"Homo sapiens\". "
   ]
  },
  {
   "cell_type": "markdown",
   "metadata": {
    "slideshow": {
     "slide_type": "slide"
    }
   },
   "source": [
    "**5/ Trouver le/les sommet(s) avec le degré le plus élevé**\n",
    "\n",
    "**Conseil** : chercher d'abord le degré maximal parmi tous les sommets puis chercher le/les sommets ayant un degré de cette valeur. \n",
    "\n",
    "**Rappel** : la commande `g2.get_total_degrees(range(0,g2.num_vertices()))` permet d'accéder à la liste de tous les degrés des sommets du graphe."
   ]
  },
  {
   "cell_type": "code",
   "execution_count": 20,
   "metadata": {
    "slideshow": {
     "slide_type": "fragment"
    }
   },
   "outputs": [
    {
     "name": "stdout",
     "output_type": "stream",
     "text": [
      "2423\n"
     ]
    }
   ],
   "source": [
    "max_degree = max(g2.get_total_degrees(range(0,g2.num_vertices())))\n",
    "print(max_degree)"
   ]
  },
  {
   "cell_type": "code",
   "execution_count": 21,
   "metadata": {
    "slideshow": {
     "slide_type": "-"
    }
   },
   "outputs": [
    {
     "data": {
      "text/plain": [
       "[<Vertex object with index '22346' at 0x7fe09591a1b0>]"
      ]
     },
     "execution_count": 21,
     "metadata": {},
     "output_type": "execute_result"
    }
   ],
   "source": [
    "find_vertex(g2, \"total\", max_degree)"
   ]
  },
  {
   "cell_type": "markdown",
   "metadata": {
    "slideshow": {
     "slide_type": "slide"
    }
   },
   "source": [
    "Nous allons maintenant nous intéresser au sommet avec l'index **22346**. Ce sommet a donc un degré qui est maximal dans le graphe (2423). \n",
    "\n",
    "**6/ Quel est le terme utilisé en théorie des graphes pour décrire ce genre de sommets ?** "
   ]
  },
  {
   "cell_type": "markdown",
   "metadata": {
    "slideshow": {
     "slide_type": "fragment"
    }
   },
   "source": [
    "C'est un HUB."
   ]
  },
  {
   "cell_type": "markdown",
   "metadata": {
    "slideshow": {
     "slide_type": "fragment"
    }
   },
   "source": [
    "**7/ Trouver le type de sommet auquel correspond le sommet d'index 22346 (propriété : biopaxType) et son nom.**"
   ]
  },
  {
   "cell_type": "code",
   "execution_count": 22,
   "metadata": {
    "slideshow": {
     "slide_type": "fragment"
    }
   },
   "outputs": [
    {
     "data": {
      "text/plain": [
       "'SmallMolecule'"
      ]
     },
     "execution_count": 22,
     "metadata": {},
     "output_type": "execute_result"
    }
   ],
   "source": [
    "g2.vp.biopaxType[22346]"
   ]
  },
  {
   "cell_type": "code",
   "execution_count": 23,
   "metadata": {
    "slideshow": {
     "slide_type": "fragment"
    }
   },
   "outputs": [
    {
     "data": {
      "text/plain": [
       "'ATP'"
      ]
     },
     "execution_count": 23,
     "metadata": {},
     "output_type": "execute_result"
    }
   ],
   "source": [
    "g2.vp.name[22346]"
   ]
  },
  {
   "cell_type": "markdown",
   "metadata": {
    "slideshow": {
     "slide_type": "slide"
    }
   },
   "source": [
    "Si vous ne l'avez pas trouvé, le sommet 22346 est une SmallMolecule et son nom est ... l'ATP ! Puisque son degré est de 2423, cela signifie qu'il y a 2423 interactions différentes entre l'ATP et d'autres composés. "
   ]
  },
  {
   "cell_type": "markdown",
   "metadata": {
    "slideshow": {
     "slide_type": "-"
    }
   },
   "source": [
    "**8/ Calculer le demi-degré extérieur et intérieur du sommet représentant l'ATP. Qu'est ce que cela signifie dans le contexte de notre graphe ?**"
   ]
  },
  {
   "cell_type": "code",
   "execution_count": 24,
   "metadata": {
    "slideshow": {
     "slide_type": "fragment"
    }
   },
   "outputs": [
    {
     "data": {
      "text/plain": [
       "array([21], dtype=uint64)"
      ]
     },
     "execution_count": 24,
     "metadata": {},
     "output_type": "execute_result"
    }
   ],
   "source": [
    "g2.get_in_degrees([22346])"
   ]
  },
  {
   "cell_type": "code",
   "execution_count": 25,
   "metadata": {
    "slideshow": {
     "slide_type": "fragment"
    }
   },
   "outputs": [
    {
     "data": {
      "text/plain": [
       "array([2402], dtype=uint64)"
      ]
     },
     "execution_count": 25,
     "metadata": {},
     "output_type": "execute_result"
    }
   ],
   "source": [
    "g2.get_out_degrees([22346])"
   ]
  },
  {
   "cell_type": "markdown",
   "metadata": {
    "slideshow": {
     "slide_type": "fragment"
    }
   },
   "source": [
    "Cela signifie que l'ATP intervient dans 2423 réactions : 21 en tant que produit et 2402 en tant que réactif. "
   ]
  },
  {
   "cell_type": "markdown",
   "metadata": {
    "slideshow": {
     "slide_type": "slide"
    }
   },
   "source": [
    "On va s'intéresser maintenant à la plus large composante connexe du graphe. L'appartenance à celle-ci correspond à une propriété des sommets du graphe `label_largest_component()` (VertexProperty). \n",
    "\n",
    "**9/ Créer cette propriété pour le graphe.**"
   ]
  },
  {
   "cell_type": "code",
   "execution_count": 26,
   "metadata": {
    "slideshow": {
     "slide_type": "fragment"
    }
   },
   "outputs": [],
   "source": [
    "g2.vertex_properties[\"largest_component\"] = g2.new_vertex_property(\"bool\")\n",
    "g2.vertex_properties[\"largest_component\"] = label_largest_component(g2)"
   ]
  },
  {
   "cell_type": "markdown",
   "metadata": {
    "slideshow": {
     "slide_type": "fragment"
    }
   },
   "source": [
    "**10/ Est ce que l'ATP fait partie de cette composante connexe ?**"
   ]
  },
  {
   "cell_type": "code",
   "execution_count": 27,
   "metadata": {
    "slideshow": {
     "slide_type": "fragment"
    }
   },
   "outputs": [
    {
     "data": {
      "text/plain": [
       "1"
      ]
     },
     "execution_count": 27,
     "metadata": {},
     "output_type": "execute_result"
    }
   ],
   "source": [
    "g2.vertex_properties[\"largest_component\"][22346]"
   ]
  },
  {
   "cell_type": "markdown",
   "metadata": {
    "slideshow": {
     "slide_type": "-"
    }
   },
   "source": [
    "OUI ! "
   ]
  },
  {
   "cell_type": "markdown",
   "metadata": {
    "slideshow": {
     "slide_type": "slide"
    }
   },
   "source": [
    "On va donc s'intéresser à la composante connexe principale (la plus grosse, que l'on vient de définir). On peut l'extraire à l'aide d'une formule. \n",
    "\n",
    "**11/ Extraire la composante connexe la plus large et la stocker dans une variable g2_max_comp sous forme de Graph. Calculer le nombre de sommets dans ce graphe.**"
   ]
  },
  {
   "cell_type": "code",
   "execution_count": 28,
   "metadata": {
    "slideshow": {
     "slide_type": "fragment"
    }
   },
   "outputs": [
    {
     "data": {
      "text/plain": [
       "9398"
      ]
     },
     "execution_count": 28,
     "metadata": {},
     "output_type": "execute_result"
    }
   ],
   "source": [
    "g2_max_comp = extract_largest_component(g2, prune=True)\n",
    "g2_max_comp.num_vertices()"
   ]
  },
  {
   "cell_type": "markdown",
   "metadata": {
    "slideshow": {
     "slide_type": "-"
    }
   },
   "source": [
    "Vous devriez obtenir un nouveau graphe avec 9398 sommets. "
   ]
  },
  {
   "cell_type": "markdown",
   "metadata": {
    "slideshow": {
     "slide_type": "slide"
    }
   },
   "source": [
    "![image](comp_connexe.png)"
   ]
  },
  {
   "cell_type": "markdown",
   "metadata": {
    "slideshow": {
     "slide_type": "slide"
    }
   },
   "source": [
    "**12/ Ajouter dans ce nouveau graphe g2_max_comp les propriétés décrivant la closeness, la betweenness et la PageRank de chaque sommet et donner ces valeurs pour le sommet représentant l'ATP.**\n",
    "\n",
    "**ATTENTION** Dans ce nouveau Graph, l'ATP n'a plus le même index, il faut à nouveau le rechercher. Cette fois-ci, je vous aide : `find_vertex(g2_max_comp, g2_max_comp.vp.name, \"ATP\")`"
   ]
  },
  {
   "cell_type": "code",
   "execution_count": 29,
   "metadata": {
    "slideshow": {
     "slide_type": "fragment"
    }
   },
   "outputs": [
    {
     "data": {
      "text/plain": [
       "[<Vertex object with index '5541' at 0x7fb6f58d3030>]"
      ]
     },
     "execution_count": 29,
     "metadata": {},
     "output_type": "execute_result"
    }
   ],
   "source": [
    "find_vertex(g2_max_comp, g2_max_comp.vp.name, \"ATP\")"
   ]
  },
  {
   "cell_type": "code",
   "execution_count": 30,
   "metadata": {
    "slideshow": {
     "slide_type": "-"
    }
   },
   "outputs": [
    {
     "data": {
      "text/plain": [
       "0.30729234793982996"
      ]
     },
     "execution_count": 30,
     "metadata": {},
     "output_type": "execute_result"
    }
   ],
   "source": [
    "g2_max_comp.vertex_properties[\"closeness\"] = g2_max_comp.new_vertex_property(\"double\")\n",
    "g2_max_comp.vertex_properties[\"closeness\"] = closeness(g2_max_comp)\n",
    "g2_max_comp.vp.closeness[5541]"
   ]
  },
  {
   "cell_type": "code",
   "execution_count": 31,
   "metadata": {
    "slideshow": {
     "slide_type": "slide"
    }
   },
   "outputs": [
    {
     "data": {
      "text/plain": [
       "0.5815321339502544"
      ]
     },
     "execution_count": 31,
     "metadata": {},
     "output_type": "execute_result"
    }
   ],
   "source": [
    "g2_max_comp.vertex_properties[\"betweenness\"] = g2_max_comp.new_vertex_property(\"double\")\n",
    "g2_max_comp.edge_properties[\"betweenness\"] = g2_max_comp.new_edge_property(\"double\")\n",
    "g2_max_comp.vertex_properties[\"betweenness\"],g2_max_comp.edge_properties[\"betweenness\"]  = betweenness(g2_max_comp)\n",
    "g2_max_comp.vp.betweenness[5541]"
   ]
  },
  {
   "cell_type": "code",
   "execution_count": 32,
   "metadata": {
    "slideshow": {
     "slide_type": "slide"
    }
   },
   "outputs": [
    {
     "data": {
      "text/plain": [
       "0.018339966777905958"
      ]
     },
     "execution_count": 32,
     "metadata": {},
     "output_type": "execute_result"
    }
   ],
   "source": [
    "g2_max_comp.vertex_properties[\"page_rank\"] = g2_max_comp.new_vertex_property(\"double\")\n",
    "g2_max_comp.vertex_properties[\"page_rank\"] = pagerank(g2_max_comp)\n",
    "g2_max_comp.vp[\"page_rank\"][5541]"
   ]
  },
  {
   "cell_type": "markdown",
   "metadata": {
    "slideshow": {
     "slide_type": "slide"
    }
   },
   "source": [
    "**12bis/ Qu'est ce que cela signifie concrètement pour l'ATP ?**"
   ]
  },
  {
   "cell_type": "markdown",
   "metadata": {
    "slideshow": {
     "slide_type": "fragment"
    }
   },
   "source": [
    "La closeness de l'ATP est de 0.3, ce n'est pas très élevé. Cela signifie que l'ATP n'est pas à une courte distance géodésique de tous les autres sommets du graphe. \n",
    "Par contre, la betweenness est assez élevé (0.58), cela signifie que l'ATP fait fréquemment partie des Plus Court Chemin (PCC) entre deux sommets quelconques du graphe. "
   ]
  },
  {
   "cell_type": "markdown",
   "metadata": {
    "slideshow": {
     "slide_type": "slide"
    }
   },
   "source": [
    "**13/ Calculer le diamètre du nouveau graphe g2_max_comp.**"
   ]
  },
  {
   "cell_type": "code",
   "execution_count": 33,
   "metadata": {
    "slideshow": {
     "slide_type": "fragment"
    }
   },
   "outputs": [
    {
     "data": {
      "text/plain": [
       "(23.0,\n",
       " (<Vertex object with index '170' at 0x7fb6f58d3b70>,\n",
       "  <Vertex object with index '9056' at 0x7fb6f58d3870>))"
      ]
     },
     "execution_count": 33,
     "metadata": {},
     "output_type": "execute_result"
    }
   ],
   "source": [
    "pseudo_diameter(g2_max_comp)"
   ]
  },
  {
   "cell_type": "markdown",
   "metadata": {
    "slideshow": {
     "slide_type": "fragment"
    }
   },
   "source": [
    "**14/ Le diamètre correspond au plus long des plus courts chemins du graphe. Ce chemin passe-t-il par le sommet ATP ?**"
   ]
  },
  {
   "cell_type": "code",
   "execution_count": 34,
   "metadata": {
    "slideshow": {
     "slide_type": "fragment"
    }
   },
   "outputs": [
    {
     "data": {
      "text/plain": [
       "True"
      ]
     },
     "execution_count": 34,
     "metadata": {},
     "output_type": "execute_result"
    }
   ],
   "source": [
    "g2_max_comp.vertex(5541) in shortest_path(g2_max_comp, g2_max_comp.vertex(170), g2_max_comp.vertex(9056))[0]"
   ]
  },
  {
   "cell_type": "markdown",
   "metadata": {
    "slideshow": {
     "slide_type": "slide"
    }
   },
   "source": [
    "graph-tool permet de modifier nos réseaux, d'ajouter ou de supprimer des sommets, des arêtes... Que se passe-t-il dans notre composante connexe si on supprime l'ATP ?\n",
    "\n",
    "**15/ Supprimer le noeud correspondant à l'ATP dans le nouveau graphe g2_max_comp.**\n",
    "\n",
    "**ATTENTION** Supprimer un noeud peut se faire de deux manières. Ici, n'oubliez pas de supprimer les ARETES reliant l'ATP à ces voisins. \n",
    "\n"
   ]
  },
  {
   "cell_type": "code",
   "execution_count": 35,
   "metadata": {
    "slideshow": {
     "slide_type": "fragment"
    }
   },
   "outputs": [],
   "source": [
    "g2_max_comp.clear_vertex(5541)\n",
    "\n",
    "# Autre méthode : \n",
    "# g2_max_comp.remove_vertex(5541) \n",
    "# Cela supprime le sommet mais cela réindexe tous les sommets. Ici, on va uniquement supprimer les arêtes \n",
    "# Pour éviter de perdre les index. "
   ]
  },
  {
   "cell_type": "markdown",
   "metadata": {
    "slideshow": {
     "slide_type": "fragment"
    }
   },
   "source": [
    "**16/ Calculer la longueur du Plus Court Chemin entre les sommets 170 et 9056 dans le graphe g2_max_comp qui n'a plus d'ATP.**"
   ]
  },
  {
   "cell_type": "code",
   "execution_count": 36,
   "metadata": {
    "slideshow": {
     "slide_type": "fragment"
    }
   },
   "outputs": [
    {
     "data": {
      "text/plain": [
       "26"
      ]
     },
     "execution_count": 36,
     "metadata": {},
     "output_type": "execute_result"
    }
   ],
   "source": [
    "len(shortest_path(g2_max_comp, g2_max_comp.vertex(170), g2_max_comp.vertex(9056))[0])"
   ]
  },
  {
   "cell_type": "markdown",
   "metadata": {
    "slideshow": {
     "slide_type": "slide"
    }
   },
   "source": [
    "**17/ Qu'est ce que ces informations nous apportent sur le graphe et sur l'ATP ? Quel processus avons nous simulé ?**"
   ]
  },
  {
   "cell_type": "markdown",
   "metadata": {
    "slideshow": {
     "slide_type": "fragment"
    }
   },
   "source": [
    "L'ATP fait partie de nombreuses voies métaboliques au sein du corps humain. Au sein d'un graphe, il est ce que l'on peut appeler un HUB. On pourrait avoir peur qu'en cas de panne sur ce HUB, beaucoup de voies ne soient plus possible. Néanmoins, grâce à des voies de secours, certaines fonctions peuvent tout de même avoir lieu. \n",
    "\n",
    "Nous avons simulé une **panne**."
   ]
  },
  {
   "cell_type": "markdown",
   "metadata": {
    "slideshow": {
     "slide_type": "slide"
    }
   },
   "source": [
    "On va maintenant voir ce qui se passe en cas d'**attaque** sur l'ATP : c'est à dire un enchaînement de pannes sur les noeuds. Plusieurs possibilités en cas d'attaques : soit les hubs sont ciblés soit les sommets sont ciblés aléatoirement, soit d'autres types de sommets sont ciblés. \n",
    "\n",
    "Nous allons donc simuler les deux types d'attaques citées. \n",
    "\n",
    "On va donc itérer le processus :\n",
    "- chercher le nouveau noeud avec le plus grand degré au sein du graphe g2_max_comp \n",
    "- supprimer les arêtes arrivant et partant de ce sommet \n",
    "- regarder si un chemin est toujours possible entre les sommets 170 et 9056\n",
    "- s'arrêter quand ce n'est plus le cas. \n",
    "\n",
    "ou pour les sommets aléatoires : \n",
    "- supprimer aléatoirement les arêtes d'un des sommets du graphe."
   ]
  },
  {
   "cell_type": "markdown",
   "metadata": {
    "slideshow": {
     "slide_type": "slide"
    }
   },
   "source": [
    "Voici le code utilisé pour faire le premier type d'attaque et afficher le nombre de sommets à supprimer/isoler (puisqu'on supprime leurs arêtes mais on ne supprime pas le sommet) pour que les sommets 170 et 9056 ne soit plus reliés par aucun chemin : "
   ]
  },
  {
   "cell_type": "code",
   "execution_count": null,
   "metadata": {
    "slideshow": {
     "slide_type": "-"
    }
   },
   "outputs": [],
   "source": [
    "nb_suppressed_hub = 1 # Car on a déjà supprimé ATP \n",
    "while shortest_path(g2_max_comp_copy, g2_max_comp_copy.vertex(170), g2_max_comp_copy.vertex(9056))[0] != []:\n",
    "    max_degree = max(g2_max_comp_copy.get_total_degrees(range(0,g2_max_comp_copy.num_vertices())))\n",
    "    hub = find_vertex(g2_max_comp_copy, \"total\", max_degree)\n",
    "    g2_max_comp_copy.clear_vertex(hub[0]) # Hub est une liste avec un seul élément\n",
    "    # mais la fonction clear_vertex prend en argument un élément et non une liste.\n",
    "    nb_suppressed_hub +=1\n",
    "\n",
    "print(nb_suppressed_hub)"
   ]
  },
  {
   "cell_type": "markdown",
   "metadata": {
    "slideshow": {
     "slide_type": "slide"
    }
   },
   "source": [
    "**18/ Exécuter ce code et ensuite modifier le pour réaliser le second type d'attaque. Combien de sommet faut-il supprimer pour empêcher la réaction de s'éxécuter dans chaque attaque ? Cela coïncide-t-il avec les propriétés que vous connaissez sur les graphes sans échelle ?**\n",
    "\n",
    "On vous conseille de faire cela sur des copies de g2_max_comp que vous pouvez créer en relançant le code `g2_max_comp_copy = extract_largest_component(g2, prune=True)`"
   ]
  },
  {
   "cell_type": "code",
   "execution_count": 38,
   "metadata": {
    "slideshow": {
     "slide_type": "fragment"
    }
   },
   "outputs": [
    {
     "name": "stdout",
     "output_type": "stream",
     "text": [
      "21\n"
     ]
    }
   ],
   "source": [
    "g2_max_comp_copy = extract_largest_component(g2, prune=True)\n",
    "\n",
    "nb_suppressed_hub = 1 # Car on a déjà supprimé ATP \n",
    "while shortest_path(g2_max_comp_copy, g2_max_comp_copy.vertex(170), g2_max_comp_copy.vertex(9056))[0] != []:\n",
    "    max_degree = max(g2_max_comp_copy.get_total_degrees(range(0,g2_max_comp_copy.num_vertices()-1)))\n",
    "    hub = find_vertex(g2_max_comp_copy, \"total\", max_degree)\n",
    "    g2_max_comp_copy.clear_vertex(hub[0]) # Hub est une liste avec un seul élément\n",
    "    # mais la fonction clear_vertex prend en argument un élément et non une liste.\n",
    "    nb_suppressed_hub +=1\n",
    "\n",
    "print(nb_suppressed_hub)"
   ]
  },
  {
   "cell_type": "code",
   "execution_count": 39,
   "metadata": {
    "slideshow": {
     "slide_type": "slide"
    }
   },
   "outputs": [
    {
     "name": "stdout",
     "output_type": "stream",
     "text": [
      "666\n"
     ]
    }
   ],
   "source": [
    "g2_max_comp_copy2 = extract_largest_component(g2, prune=True)\n",
    "\n",
    "nb_suppressed_vertex = 1 # Car on a déjà supprimé ATP \n",
    "while shortest_path(g2_max_comp_copy2, g2_max_comp_copy2.vertex(170), g2_max_comp_copy2.vertex(9056))[0] != []:\n",
    "    g2_max_comp_copy2.clear_vertex(random.randint(0, g2_max_comp_copy2.num_vertices()-1))\n",
    "    nb_suppressed_vertex+=1\n",
    "\n",
    "print(nb_suppressed_vertex)"
   ]
  },
  {
   "cell_type": "markdown",
   "metadata": {
    "slideshow": {
     "slide_type": "-"
    }
   },
   "source": [
    "On se retrouve avec une large différence : \n",
    "- si on cible les hubs, il faut uniquement 21 pannes successives pour que la réaction ne soit plus possible ;\n",
    "- si on ne cible pas les hubs, la résistance est plutôt bonne et le nombre de pannes successives nécessaires pour que la réaction ne soit plus possible est beaucoup plus élevé (selon les tests entre 200 et 1400). \n",
    "\n",
    "Cela confirme la propriété des graphes sans échelle selon laquelle ces derniers sont robustes mais fragiles. "
   ]
  },
  {
   "cell_type": "markdown",
   "metadata": {
    "slideshow": {
     "slide_type": "slide"
    }
   },
   "source": [
    "**BONUS : Trouver les sommets qui ne sont plus atteignables dans le graphe à cause de la suppression de l'ATP**\n",
    "\n",
    "**NB** : N'oubliez pas de vous replacez dans le graphe g2_max_comp."
   ]
  },
  {
   "cell_type": "code",
   "execution_count": 40,
   "metadata": {
    "slideshow": {
     "slide_type": "fragment"
    }
   },
   "outputs": [],
   "source": [
    "## Il faut trouver les sommets qui ne sont plus dans la plus grande composante connexe du graphe. \n",
    "## Il faut donc créer la propriété \"label_largest_component\" dans le graphe g2_max_comp\n",
    "\n",
    "g2_max_comp.vertex_properties[\"new_largest_component\"] = g2_max_comp.new_vertex_property(\"bool\")\n",
    "g2_max_comp.vertex_properties[\"new_largest_component\"] = label_largest_component(g2_max_comp)"
   ]
  },
  {
   "cell_type": "code",
   "execution_count": 41,
   "metadata": {
    "slideshow": {
     "slide_type": "fragment"
    }
   },
   "outputs": [],
   "source": [
    "unreachable_vertices = []\n",
    "for i in range(0, g2_max_comp.num_vertices()-1):\n",
    "    if g2_max_comp.vp[\"new_largest_component\"][i] == 0:\n",
    "        unreachable_vertices.append(g2_max_comp.vp.name[i])"
   ]
  }
 ],
 "metadata": {
  "celltoolbar": "Format de la Cellule Texte Brut",
  "kernelspec": {
   "display_name": "Python 3",
   "language": "python",
   "name": "python3"
  },
  "language_info": {
   "codemirror_mode": {
    "name": "ipython",
    "version": 3
   },
   "file_extension": ".py",
   "mimetype": "text/x-python",
   "name": "python",
   "nbconvert_exporter": "python",
   "pygments_lexer": "ipython3",
   "version": "3.9.0"
  }
 },
 "nbformat": 4,
 "nbformat_minor": 4
}
